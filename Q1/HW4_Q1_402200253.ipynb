{
 "cells": [
  {
   "cell_type": "code",
   "execution_count": 1,
   "metadata": {},
   "outputs": [
    {
     "name": "stdout",
     "output_type": "stream",
     "text": [
      "your student id: 402200253\n",
      "your name: Alireza Abbasian\n"
     ]
    }
   ],
   "source": [
    "student_id = \"402200253\"\n",
    "student_name = \"Alireza Abbasian\"\n",
    "\n",
    "print(\"your student id:\", student_id)\n",
    "print(\"your name:\", student_name)"
   ]
  },
  {
   "cell_type": "code",
   "execution_count": 2,
   "metadata": {},
   "outputs": [],
   "source": [
    "import torch\n",
    "import torch.nn as nn\n",
    "import torch.optim as optim\n",
    "from sklearn.metrics import precision_score, accuracy_score\n",
    "from tqdm import tqdm\n",
    "import matplotlib.pyplot as plt\n",
    "import numpy as np\n",
    "from torch.utils.data import random_split\n",
    "from torch.utils.data import Dataset\n",
    "from torch.utils.data import DataLoader\n",
    "import pandas as pd\n",
    "import re\n",
    "from sklearn.model_selection import KFold"
   ]
  },
  {
   "cell_type": "code",
   "execution_count": 3,
   "metadata": {},
   "outputs": [
    {
     "name": "stdout",
     "output_type": "stream",
     "text": [
      "device =  cuda\n"
     ]
    }
   ],
   "source": [
    "seed_val = 1402\n",
    "\n",
    "\n",
    "np.random.seed(seed_val)\n",
    "torch.manual_seed(seed_val)\n",
    "torch.cuda.manual_seed_all(seed_val)\n",
    "\n",
    "device = \"cuda\" if torch.cuda.is_available() else \"cpu\"\n",
    "print(\"device = \",device)"
   ]
  },
  {
   "cell_type": "markdown",
   "metadata": {},
   "source": [
    "# preprocess"
   ]
  },
  {
   "cell_type": "code",
   "execution_count": 4,
   "metadata": {},
   "outputs": [
    {
     "name": "stdout",
     "output_type": "stream",
     "text": [
      "   num                  name  p_np  \\\n",
      "0    1            Propanolol     1   \n",
      "1    2  Terbutylchlorambucil     1   \n",
      "2    3                 40730     1   \n",
      "3    4                    24     1   \n",
      "4    5           cloxacillin     1   \n",
      "\n",
      "                                              smiles  \n",
      "0                   [Cl].CC(C)NCC(O)COc1cccc2ccccc12  \n",
      "1           C(=O)(OC(C)(C)C)CCCc1ccc(cc1)N(CCCl)CCCl  \n",
      "2  c12c3c(N4CCN(C)CC4)c(F)cc1c(c(C(O)=O)cn2C(C)CO...  \n",
      "3                   C1CCN(CC1)Cc1cccc(c1)OCCCNC(=O)C  \n",
      "4  Cc1onc(c2ccccc2Cl)c1C(=O)N[C@H]3[C@H]4SC(C)(C)...  \n"
     ]
    }
   ],
   "source": [
    "# read BBBP.csv file\n",
    "df = pd.read_csv('BBBP.csv')\n",
    "print(df.head())"
   ]
  },
  {
   "cell_type": "code",
   "execution_count": 5,
   "metadata": {},
   "outputs": [
    {
     "name": "stdout",
     "output_type": "stream",
     "text": [
      "number of smiles =  2050\n",
      "[Cl].CC(C)NCC(O)COc1cccc2ccccc12  :  1\n",
      "C(=O)(OC(C)(C)C)CCCc1ccc(cc1)N(CCCl)CCCl  :  1\n",
      "c12c3c(N4CCN(C)CC4)c(F)cc1c(c(C(O)=O)cn2C(C)CO3)=O  :  1\n",
      "C1CCN(CC1)Cc1cccc(c1)OCCCNC(=O)C  :  1\n",
      "Cc1onc(c2ccccc2Cl)c1C(=O)N[C@H]3[C@H]4SC(C)(C)[C@@H](N4C3=O)C(O)=O  :  1\n",
      "CCN1CCN(C(=O)N[C@@H](C(=O)N[C@H]2[C@H]3SCC(=C(N3C2=O)C(O)=O)CSc4nnnn4C)c5ccc(O)cc5)C(=O)C1=O  :  1\n",
      "CN(C)[C@H]1[C@@H]2C[C@H]3C(=C(O)c4c(O)cccc4[C@@]3(C)O)C(=O)[C@]2(O)C(=O)\\C(=C(/O)NCN5CCCC5)C1=O  :  1\n",
      "Cn1c2CCC(Cn3ccnc3C)C(=O)c2c4ccccc14  :  1\n",
      "COc1ccc(cc1)[C@@H]2Sc3ccccc3N(CCN(C)C)C(=O)[C@@H]2OC(C)=O  :  1\n",
      "NC(N)=NC(=O)c1nc(Cl)c(N)nc1N  :  1\n",
      "OCC(C)(O)c1onc(c2ncn3c2CN(C)C(c4c3cccc4Cl)=O)n1  :  0\n"
     ]
    }
   ],
   "source": [
    "# the p_np column is the label\n",
    "p_np = df['p_np'].values\n",
    "\n",
    "# the smiles column is the input\n",
    "smiles = df['smiles'].values\n",
    "\n",
    "# create smiles_pnp_dict dict\n",
    "smiles_pnp_dict = {}\n",
    "for i in range(len(smiles)):\n",
    "    smiles_pnp_dict[smiles[i]] = p_np[i]\n",
    "\n",
    "print(\"number of smiles = \", len(smiles_pnp_dict))\n",
    "\n",
    "# print first 10 smiles with their labels using smiles_pnp_dict dict\n",
    "for i, (k, v) in enumerate(smiles_pnp_dict.items()):\n",
    "    print(k, \" : \", v)\n",
    "    if i == 10:\n",
    "        break"
   ]
  },
  {
   "cell_type": "markdown",
   "metadata": {},
   "source": [
    "<div dir=\"rtl\">\n",
    "<font face=\"B Nazanin\" size=\"5\">\n",
    "در زیر توضیحات مختصری درباره SMILES\n",
    "جمع آوری کرده ام که خلاصه آن این است که لیستی از عناصری که در این دیتا ست وجود دارد را استخراج کردم و هر کدام یک توکن هستند. عناصر با حروف کوچک هم آروماتیک هستند پس \n",
    "توکن متفاوت هستند.\n",
    "هر چیزی که داخل کروشه هست را کلا به عنوان یک توکن گرفتم.\n",
    "با پرانتز با اینکه معنای شاخه میدهد ولی مانند یک عنصر برخورد کرده ام و باز و بسته شدنش را توکن فرض کرده ام!\n",
    "سایر علامت ها هم همینطور و با کمک chatgpt\n",
    "یک رجکس نوشتم که همه این توکن ها را استخراج میکند.\n",
    "</font>\n",
    "</div>"
   ]
  },
  {
   "cell_type": "markdown",
   "metadata": {},
   "source": [
    "Elements:\n",
    "Single-letter Elements:\n",
    "\n",
    "C - Carbon\n",
    "\n",
    "N - Nitrogen\n",
    "\n",
    "O - Oxygen\n",
    "\n",
    "S - Sulfur\n",
    "\n",
    "P - Phosphorus\n",
    "\n",
    "F - Fluorine\n",
    "\n",
    "Cl - Chlorine\n",
    "\n",
    "Br - Bromine\n",
    "\n",
    "I - Iodine\n",
    "\n",
    "Single-letter Elements (Aromatic):\n",
    "\n",
    "c - Aromatic carbon\n",
    "\n",
    "n - Aromatic nitrogen\n",
    "\n",
    "o - Aromatic oxygen\n",
    "\n",
    "s - Aromatic sulfur\n",
    "\n",
    "p - Aromatic phosphorus\n",
    "\n",
    "Two-letter Elements:\n",
    "\n",
    "Br - Bromine\n",
    "\n",
    "Cl - Chlorine\n",
    "\n",
    "Li - Lithium\n",
    "\n",
    "Na - Sodium\n",
    "\n",
    "K - Potassium\n",
    "\n",
    "Ca - Calcium\n",
    "\n",
    "Mg - Magnesium\n",
    "\n",
    "and others...\n",
    "\n",
    "Rules:\n",
    "\n",
    "Hydrogens:\n",
    "\n",
    "Implicit hydrogen atoms are assumed. They are not explicitly written unless needed for clarity.\n",
    "\n",
    "Bonds:\n",
    "\n",
    "Single bonds are represented by - (e.g., CC).\n",
    "\n",
    "Double bonds are represented by = (e.g., C=C).\n",
    "\n",
    "Triple bonds are represented by # (e.g., C#C).\n",
    "\n",
    "Aromaticity:\n",
    "\n",
    "Aromatic rings are often represented using lowercase letters (c, n, o, s, p).\n",
    "Aromaticity can also be indicated using aromatic symbols like c1ccccc1 for benzene.\n",
    "\n",
    "Branching:\n",
    "\n",
    "Branching is indicated by parentheses, for example, (CC)O represents the alcohol group attached to a carbon.\n",
    "\n",
    "Ring Closure:\n",
    "\n",
    "Ring closure is indicated by using numbers. For example, C1CCCCC1 represents a cyclohexane ring.\n",
    "\n",
    "Chirality:\n",
    "\n",
    "Chiral centers are indicated using @ and @@ symbols. For example, C[C@H](F)O represents a chiral center.\n",
    "\n",
    "Isotopes:\n",
    "\n",
    "Isotopes are represented using [mass_number] in square brackets. For example, [13CH4] represents carbon-13 methane.\n",
    "\n",
    "Charge:\n",
    "\n",
    "Positive and negative charges are indicated by + and -, respectively."
   ]
  },
  {
   "cell_type": "code",
   "execution_count": 6,
   "metadata": {},
   "outputs": [
    {
     "name": "stdout",
     "output_type": "stream",
     "text": [
      "['[Cl]', '.', 'C', 'C', '(', 'C', ')', 'N', 'C', 'C', '(', 'O', ')', 'C', 'O', 'c', '1', 'c', 'c', 'c', 'c', '2', 'c', 'c', 'c', 'c', 'c', '1', '2']\n"
     ]
    }
   ],
   "source": [
    "# we need to convert the smiles to a list of integers(each element  is represented by an integer)\n",
    "\n",
    "smiles_pattern = re.compile(r'(\\[[^\\]]+\\]|Br?|Cl?|I|C?|c?|N?|n?|O?|o?|F?|S?|s?|\\(|\\)|\\.|=|#|-|\\+|\\\\|/|:|~|@|\\?|>|<|\\*|%[0-9]{2}|[0-9])')\n",
    "\n",
    "# Example SMILES string\n",
    "smiles_str = smiles[0]\n",
    "\n",
    "# Find matches using the pattern\n",
    "matches = re.findall(smiles_pattern, smiles_str)\n",
    "matches = [match for match in matches if match]\n",
    "\n",
    "# Print the matches\n",
    "print(matches)"
   ]
  },
  {
   "cell_type": "code",
   "execution_count": 7,
   "metadata": {},
   "outputs": [],
   "source": [
    "vocab_count_dict = {}\n",
    "smiles_lengths_dict = {}\n",
    "vocab_2_index_dict = {}\n",
    "index_2_vocab_dict = {}\n",
    "smiles_2_vocab_dict = {}\n",
    "\n",
    "for smiles_str in smiles:\n",
    "    matches = re.findall(smiles_pattern, smiles_str)\n",
    "    matches = [match for match in matches if match]\n",
    "\n",
    "\n",
    "    smiles_2_vocab_dict[smiles_str] = matches\n",
    "\n",
    "    # Update vocabulary counts\n",
    "    for match in matches:\n",
    "        vocab_count_dict[match] = vocab_count_dict.get(match, 0) + 1\n",
    "\n",
    "    # Save the length of each SMILES string\n",
    "    smiles_lengths_dict[smiles_str] = len(matches)\n",
    "\n",
    "vocab_count_dict = {k: v for k, v in sorted(vocab_count_dict.items(), key=lambda item: item[1], reverse=True)}\n",
    "\n",
    "for index, vocab in enumerate(sorted(vocab_count_dict.keys())):\n",
    "    vocab_2_index_dict[vocab] = index\n",
    "\n",
    "for vocab, index in vocab_2_index_dict.items():\n",
    "    index_2_vocab_dict[index] = vocab\n"
   ]
  },
  {
   "cell_type": "markdown",
   "metadata": {},
   "source": [
    "<div dir=\"rtl\">\n",
    "<font face=\"B Nazanin\" size=\"5\">\n",
    "در زیر مشاهده میکنید که طولانی ترین مولکول دارای 232 توکن است.\n",
    "کوتاه ترین هم سه تایی است.\n",
    "میانگین و واریانس طول هم در زیر ذکر شده است.\n",
    "</font>\n",
    "</div>"
   ]
  },
  {
   "cell_type": "code",
   "execution_count": 8,
   "metadata": {},
   "outputs": [
    {
     "name": "stdout",
     "output_type": "stream",
     "text": [
      "max_smiles_len =  232\n",
      "min_smiles_len =  3\n",
      "avg_smiles_len =  44.40682926829268\n",
      "var_smiles_len =  430.26180701963114\n"
     ]
    }
   ],
   "source": [
    "# print max length of smiles\n",
    "max_smiles_len = max(smiles_lengths_dict.values())\n",
    "print(\"max_smiles_len = \",max_smiles_len)\n",
    "\n",
    "# print min length of smiles\n",
    "min_smiles_len = min(smiles_lengths_dict.values())\n",
    "print(\"min_smiles_len = \",min_smiles_len)\n",
    "\n",
    "# print avg length of smiles\n",
    "avg_smiles_len = sum(smiles_lengths_dict.values())/len(smiles_lengths_dict.values())\n",
    "print(\"avg_smiles_len = \",avg_smiles_len)\n",
    "\n",
    "# print var length of smiles\n",
    "var_smiles_len = np.var(list(smiles_lengths_dict.values()))\n",
    "print(\"var_smiles_len = \",var_smiles_len)\n"
   ]
  },
  {
   "cell_type": "markdown",
   "metadata": {},
   "source": [
    "<div dir=\"rtl\">\n",
    "<font face=\"B Nazanin\" size=\"5\">\n",
    "هیستوگرام طول مولکول ها در زیر آمده است\n",
    "</font>\n",
    "</div>"
   ]
  },
  {
   "cell_type": "code",
   "execution_count": 9,
   "metadata": {},
   "outputs": [
    {
     "data": {
      "image/png": "[encoded data removed]",
      "text/plain": [
       "<Figure size 432x288 with 1 Axes>"
      ]
     },
     "metadata": {
      "needs_background": "light"
     },
     "output_type": "display_data"
    }
   ],
   "source": [
    "# plot histogram of smiles lengths\n",
    "plt.hist(smiles_lengths_dict.values(), bins=20)\n",
    "plt.xlabel('SMILES Length')\n",
    "plt.ylabel('Count')\n",
    "plt.show()\n"
   ]
  },
  {
   "cell_type": "markdown",
   "metadata": {},
   "source": [
    "<div dir=\"rtl\">\n",
    "<font face=\"B Nazanin\" size=\"5\">\n",
    "در زیر مشاهده میکنید که کلا 71 توکن داریم که فراوانی رخداد هرکدام در زیر آمده است.\n",
    "</font>\n",
    "</div>"
   ]
  },
  {
   "cell_type": "code",
   "execution_count": 10,
   "metadata": {},
   "outputs": [
    {
     "name": "stdout",
     "output_type": "stream",
     "text": [
      "71\n",
      "{'C': 26859, '(': 10491, ')': 10491, '=': 8034, 'c': 6937, 'O': 6142, '1': 4100, 'N': 3724, '2': 3362, '3': 2548, '4': 1434, '[C@H]': 1354, '[C@@H]': 893, 'Cl': 570, 'F': 509, 'n': 472, '5': 454, 'S': 405, '[C@@]': 350, '[C@]': 323, '\\\\': 203, '/': 184, '.': 163, '6': 124, '[S]': 103, '[N]': 77, 's': 72, '[O-]': 64, '7': 56, '#': 53, '[NH]': 50, '[N+]': 49, 'o': 48, 'Br': 45, '[Cl-]': 43, '[nH]': 40, '[H+]': 40, '8': 28, '[Na+]': 19, '9': 16, '[N@]': 14, '[P]': 11, '[N@@]': 8, '%10': 8, 'I': 6, '[Br-]': 6, '[Cl]': 5, '[H]': 4, '[N-]': 4, '%11': 4, '%12': 4, '%13': 4, '%14': 4, '[n+]': 2, '[NH+]': 2, '[Na]': 2, '[C-]': 2, '[NH2+]': 2, '[NH2]': 1, '[Ca++]': 1, '[S@]': 1, '[OH-]': 1, '[nH+]': 1, '[o+]': 1, '[NH3+]': 1, '[CH2-]': 1, '[CH-]': 1, 'B': 1, '[S+]': 1, '[O+]': 1, '[NH-]': 1}\n"
     ]
    }
   ],
   "source": [
    "# print number of unique vocab\n",
    "number_of_unique_vocab = len(vocab_count_dict)\n",
    "print(number_of_unique_vocab)\n",
    "\n",
    "# print all vocab counts\n",
    "print(vocab_count_dict)"
   ]
  },
  {
   "cell_type": "markdown",
   "metadata": {},
   "source": [
    "<div dir=\"rtl\">\n",
    "<font face=\"B Nazanin\" size=\"5\">\n",
    "به هر توکن یک اندیس نسبت میدهیم\n",
    "</font>\n",
    "</div>"
   ]
  },
  {
   "cell_type": "code",
   "execution_count": 11,
   "metadata": {},
   "outputs": [
    {
     "name": "stdout",
     "output_type": "stream",
     "text": [
      "{'#': 0, '%10': 1, '%11': 2, '%12': 3, '%13': 4, '%14': 5, '(': 6, ')': 7, '.': 8, '/': 9, '1': 10, '2': 11, '3': 12, '4': 13, '5': 14, '6': 15, '7': 16, '8': 17, '9': 18, '=': 19, 'B': 20, 'Br': 21, 'C': 22, 'Cl': 23, 'F': 24, 'I': 25, 'N': 26, 'O': 27, 'S': 28, '[Br-]': 29, '[C-]': 30, '[C@@H]': 31, '[C@@]': 32, '[C@H]': 33, '[C@]': 34, '[CH-]': 35, '[CH2-]': 36, '[Ca++]': 37, '[Cl-]': 38, '[Cl]': 39, '[H+]': 40, '[H]': 41, '[N+]': 42, '[N-]': 43, '[N@@]': 44, '[N@]': 45, '[NH+]': 46, '[NH-]': 47, '[NH2+]': 48, '[NH2]': 49, '[NH3+]': 50, '[NH]': 51, '[N]': 52, '[Na+]': 53, '[Na]': 54, '[O+]': 55, '[O-]': 56, '[OH-]': 57, '[P]': 58, '[S+]': 59, '[S@]': 60, '[S]': 61, '[n+]': 62, '[nH+]': 63, '[nH]': 64, '[o+]': 65, '\\\\': 66, 'c': 67, 'n': 68, 'o': 69, 's': 70}\n",
      "{0: '#', 1: '%10', 2: '%11', 3: '%12', 4: '%13', 5: '%14', 6: '(', 7: ')', 8: '.', 9: '/', 10: '1', 11: '2', 12: '3', 13: '4', 14: '5', 15: '6', 16: '7', 17: '8', 18: '9', 19: '=', 20: 'B', 21: 'Br', 22: 'C', 23: 'Cl', 24: 'F', 25: 'I', 26: 'N', 27: 'O', 28: 'S', 29: '[Br-]', 30: '[C-]', 31: '[C@@H]', 32: '[C@@]', 33: '[C@H]', 34: '[C@]', 35: '[CH-]', 36: '[CH2-]', 37: '[Ca++]', 38: '[Cl-]', 39: '[Cl]', 40: '[H+]', 41: '[H]', 42: '[N+]', 43: '[N-]', 44: '[N@@]', 45: '[N@]', 46: '[NH+]', 47: '[NH-]', 48: '[NH2+]', 49: '[NH2]', 50: '[NH3+]', 51: '[NH]', 52: '[N]', 53: '[Na+]', 54: '[Na]', 55: '[O+]', 56: '[O-]', 57: '[OH-]', 58: '[P]', 59: '[S+]', 60: '[S@]', 61: '[S]', 62: '[n+]', 63: '[nH+]', 64: '[nH]', 65: '[o+]', 66: '\\\\', 67: 'c', 68: 'n', 69: 'o', 70: 's'}\n"
     ]
    }
   ],
   "source": [
    "print(vocab_2_index_dict)\n",
    "\n",
    "print(index_2_vocab_dict)"
   ]
  },
  {
   "cell_type": "markdown",
   "metadata": {},
   "source": [
    "<div dir=\"rtl\">\n",
    "<font face=\"B Nazanin\" size=\"5\">\n",
    "هر مولکول را به لیستی از توکن ها تبدیل کرده ایم:\n",
    "</font>\n",
    "</div>"
   ]
  },
  {
   "cell_type": "code",
   "execution_count": 12,
   "metadata": {},
   "outputs": [
    {
     "name": "stdout",
     "output_type": "stream",
     "text": [
      "[Cl].CC(C)NCC(O)COc1cccc2ccccc12\n",
      "['[Cl]', '.', 'C', 'C', '(', 'C', ')', 'N', 'C', 'C', '(', 'O', ')', 'C', 'O', 'c', '1', 'c', 'c', 'c', 'c', '2', 'c', 'c', 'c', 'c', 'c', '1', '2']\n",
      "[39, 8, 22, 22, 6, 22, 7, 26, 22, 22, 6, 27, 7, 22, 27, 67, 10, 67, 67, 67, 67, 11, 67, 67, 67, 67, 67, 10, 11]\n"
     ]
    }
   ],
   "source": [
    "smiles_2_index_dict = {}\n",
    "\n",
    "for smiles_str, matches in smiles_2_vocab_dict.items():\n",
    "    smiles_2_index_dict[smiles_str] = [vocab_2_index_dict[match] for match in matches]\n",
    "\n",
    "# print first smiles string with its vocab and index\n",
    "print(smiles[0])\n",
    "print(smiles_2_vocab_dict[smiles[0]])\n",
    "print(smiles_2_index_dict[smiles[0]])\n",
    "    "
   ]
  },
  {
   "cell_type": "markdown",
   "metadata": {},
   "source": [
    "<div dir=\"rtl\">\n",
    "<font face=\"B Nazanin\" size=\"5\">\n",
    "در زیر هر اندیس را به یک بردار onehot\n",
    "تبدیل کرده ایم.\n",
    "توجه کنید که به هر رشته یک ماتریس\n",
    "232*71\n",
    "نسبت میدهیم که هر سطر یک بردار وان هات است که میگوید در این جابگاه از رشته چه توکنی وجود دارد.\n",
    "\n",
    "توجه کنید که همه رشته ها 232 تایی نیستند بنابراین باید پدینگ داشته باشیم.\n",
    "با توجه به نکته ای که یکی از بچه ها در گروه درس مطرح کرد \n",
    "اگر ابتدا صفر قرار دهیم سپس بردار های وان هات را باعث میشود که LSTM\n",
    "قفل نکند و یادگیری به خوبی انجام شود من هم چنین کردم.\n",
    "</font>\n",
    "</div>"
   ]
  },
  {
   "cell_type": "code",
   "execution_count": 13,
   "metadata": {},
   "outputs": [
    {
     "name": "stdout",
     "output_type": "stream",
     "text": [
      "(232, 71)\n"
     ]
    }
   ],
   "source": [
    "smiles_onehot_dict = {}\n",
    "\n",
    "for i, smiles_str in enumerate(smiles_2_index_dict.keys()):\n",
    "    smiles_onehot_dict[smiles_str] = np.zeros((max_smiles_len, number_of_unique_vocab))\n",
    "    smiles_onehot_dict[smiles_str][np.arange(smiles_lengths_dict[smiles_str]) + max_smiles_len - smiles_lengths_dict[smiles_str], smiles_2_index_dict[smiles_str]] = 1\n",
    "\n",
    "print(smiles_onehot_dict[smiles[0]].shape)"
   ]
  },
  {
   "cell_type": "markdown",
   "metadata": {},
   "source": [
    "<div dir=\"rtl\">\n",
    "<font face=\"B Nazanin\" size=\"5\">\n",
    "برای اطمینان از عملکرد صحیح\n",
    "همه مولکول هایی که به ماتریس تبدیل کرده بودم را دوباره به استرینگ برگرداندن و مشاهده میکنید که منطبق هستند.\n",
    "</font>\n",
    "</div>"
   ]
  },
  {
   "cell_type": "code",
   "execution_count": 14,
   "metadata": {},
   "outputs": [
    {
     "name": "stdout",
     "output_type": "stream",
     "text": [
      "[Cl].CC(C)NCC(O)COc1cccc2ccccc12\n",
      "[Cl].CC(C)NCC(O)COc1cccc2ccccc12\n"
     ]
    }
   ],
   "source": [
    "# for check we convert one hot to smiles\n",
    "reconstructed_smiles = []\n",
    "for smiles_str in smiles_2_index_dict.keys():\n",
    "    onehot = smiles_onehot_dict[smiles_str]\n",
    "    indices = np.where(onehot == 1) \n",
    "    smiles_str = \"\".join([index_2_vocab_dict[index] for index in indices[1]])\n",
    "    reconstructed_smiles.append(smiles_str)\n",
    "\n",
    "\n",
    "print(smiles[0])\n",
    "print(reconstructed_smiles[0])\n",
    "\n",
    "# compare smiles and reconstructed_smiles\n",
    "for smiles_str, reconstructed_smiles_str in zip(smiles, reconstructed_smiles):\n",
    "    if smiles_str != reconstructed_smiles_str:\n",
    "        print(\"Error!\")\n",
    "        print(smiles_str)\n",
    "        print(reconstructed_smiles_str)\n",
    "        break"
   ]
  },
  {
   "cell_type": "markdown",
   "metadata": {},
   "source": [
    "# dataset"
   ]
  },
  {
   "cell_type": "markdown",
   "metadata": {},
   "source": [
    "<div dir=\"rtl\">\n",
    "<font face=\"B Nazanin\" size=\"5\">\n",
    "دیتاست را درست میکنیم که هر item \n",
    "شامل تنسور توکن یک مولکول \n",
    "برچسب آن و طول رشته آن است.\n",
    "\n",
    "طول را به آن خاطر میدهیم که در تست نهایی بتوانیم دقت مدل را متناسب با طول هر رشته اعلام کنیم.\n",
    "</font>\n",
    "</div>"
   ]
  },
  {
   "cell_type": "code",
   "execution_count": 15,
   "metadata": {},
   "outputs": [],
   "source": [
    "p_np_tensor_list = []\n",
    "smiles_onehot_tensor_list = []\n",
    "smiles_length_tensor_list = []\n",
    "\n",
    "for smiles_str in smiles:\n",
    "    # Assuming smiles_pnp_dict and smiles_onehot_dict contain numerical data\n",
    "    p_np_tensor = torch.tensor(smiles_pnp_dict[smiles_str], dtype=torch.float32)\n",
    "    smiles_onehot_tensor = torch.tensor(smiles_onehot_dict[smiles_str], dtype=torch.float32)\n",
    "    smiles_length_tensor = torch.tensor(smiles_lengths_dict[smiles_str], dtype=torch.float32)\n",
    "\n",
    "    p_np_tensor_list.append(p_np_tensor)\n",
    "    smiles_onehot_tensor_list.append(smiles_onehot_tensor)\n",
    "    smiles_length_tensor_list.append(smiles_length_tensor)\n",
    "    \n",
    "    "
   ]
  },
  {
   "cell_type": "code",
   "execution_count": 16,
   "metadata": {},
   "outputs": [],
   "source": [
    "# we want train a pytorch fully connected model for classification\n",
    "# labels are in p_np\n",
    "# inputs are in smiles_one_hot\n",
    "\n",
    "# create a dataset class\n",
    "class BBBPDataset(Dataset):\n",
    "    def __init__(self, smiles_onehot_tensor_list, p_np_tensor_list, with_length=False):\n",
    "        self.datas = smiles_onehot_tensor_list\n",
    "        self.labels = p_np_tensor_list\n",
    "        self.with_length = with_length\n",
    "        self.lengths = smiles_length_tensor_list\n",
    "        \n",
    "    def __len__(self):\n",
    "        return len(self.labels)\n",
    "    \n",
    "    def __getitem__(self, idx):\n",
    "        data = self.datas[idx]\n",
    "        label = self.labels[idx]\n",
    "        length = self.lengths[idx]\n",
    "\n",
    "        if self.with_length:\n",
    "            return data, label, length\n",
    "        else:\n",
    "            return data, label\n",
    "    \n",
    "dataset = BBBPDataset(smiles_onehot_tensor_list, p_np_tensor_list)"
   ]
  },
  {
   "cell_type": "markdown",
   "metadata": {},
   "source": [
    "# FC claassification"
   ]
  },
  {
   "cell_type": "markdown",
   "metadata": {},
   "source": [
    "<div dir=\"rtl\">\n",
    "<font face=\"B Nazanin\" size=\"5\">\n",
    "یک مدل FC ساده را در \n",
    "زیر نوشته ام که تعداد لایه های میانی و سایز هر لایه به عنوان ورودی های \n",
    "constructor\n",
    "مدل هستند.\n",
    "\n",
    "مدل را با سه لایه مخفی به ترتیب به سایز دوهزار و دویست و ده میسازیم.\n",
    "چون لیبل باینری است بنابراین سایز خروجی یک است و در لایه آخر سیگموید میگذاریم که اگر خروجی بزرگتر از نیم شود آن را یک قلمداد کنیم.\n",
    "\n",
    "چون ماتریس هر مولکول را خطی میکنیم و به ورودی میدهیم سایز ورودی برابر ضرب بیشینه طول مولکول ها در تعداد توکن های منحصر به فرد است.\n",
    "</font>\n",
    "</div>"
   ]
  },
  {
   "cell_type": "code",
   "execution_count": 17,
   "metadata": {},
   "outputs": [
    {
     "name": "stdout",
     "output_type": "stream",
     "text": [
      "input_size =  16472\n"
     ]
    }
   ],
   "source": [
    "# create a fully connected model\n",
    "# the input of model are [input_size, hidden_leyers, output_size]\n",
    "# hidden_layers is a list of hidden layers size\n",
    "# we use nn.Sequential\n",
    "# output size is 1 because we have binary classification\n",
    "\n",
    "\n",
    "class FullyConnected(nn.Module):\n",
    "    def __init__(self, input_size, hidden_layers, output_size = 1):\n",
    "        super(FullyConnected, self).__init__()\n",
    "        self.input_size = input_size\n",
    "        self.hidden_layers = hidden_layers\n",
    "        self.output_size = output_size\n",
    "        \n",
    "        self.layers = []\n",
    "        \n",
    "        # first layer\n",
    "        self.layers.append(nn.Linear(self.input_size, self.hidden_layers[0]))\n",
    "        self.layers.append(nn.ReLU())\n",
    "        \n",
    "        # hidden layers\n",
    "        for i in range(len(self.hidden_layers)-1):\n",
    "            self.layers.append(nn.Linear(self.hidden_layers[i], self.hidden_layers[i+1]))\n",
    "            self.layers.append(nn.ReLU())\n",
    "        \n",
    "        # output layer\n",
    "        self.layers.append(nn.Linear(self.hidden_layers[-1], self.output_size))\n",
    "        self.layers.append(nn.Sigmoid())\n",
    "        \n",
    "        self.fc = nn.Sequential(*self.layers)\n",
    "        \n",
    "    def forward(self, x):\n",
    "        return self.fc(x)\n",
    "    \n",
    "# we flatten the input\n",
    "# create a model\n",
    "# print input size\n",
    "print(\"input_size = \", number_of_unique_vocab * max_smiles_len)\n",
    "\n",
    "fc_model = FullyConnected(number_of_unique_vocab * max_smiles_len, [2000, 200, 10], 1)\n",
    "\n",
    "\n"
   ]
  },
  {
   "cell_type": "code",
   "execution_count": 18,
   "metadata": {},
   "outputs": [],
   "source": [
    "# create dataloader\n",
    "train_size = int(0.8 * len(dataset))\n",
    "test_size = len(dataset) - train_size\n",
    "train_dataset, test_dataset = random_split(dataset, [train_size, test_size])\n",
    "\n",
    "train_dataloader = DataLoader(train_dataset, batch_size=32, shuffle=True)\n",
    "test_dataloader = DataLoader(test_dataset, batch_size=32, shuffle=False)\n",
    "\n",
    "# create loss function\n",
    "loss_fn = nn.BCELoss()\n",
    "\n",
    "# create optimizer\n",
    "optimizer = optim.Adam(fc_model.parameters(), lr=0.001)\n",
    "\n",
    "# move model to device\n",
    "fc_model = fc_model.to(device)"
   ]
  },
  {
   "cell_type": "markdown",
   "metadata": {},
   "source": [
    "<div dir=\"rtl\">\n",
    "<font face=\"B Nazanin\" size=\"5\">\n",
    "در زیر مدل را train\n",
    "کرده ایم و نتایج در زیر کاملا مشخص است.\n",
    "</font>\n",
    "</div>"
   ]
  },
  {
   "cell_type": "code",
   "execution_count": 19,
   "metadata": {},
   "outputs": [
    {
     "name": "stdout",
     "output_type": "stream",
     "text": [
      "epoch_i =  0\n",
      "train_loss = 0.41, train_accuracy = 0.81, train_precision = 0.86\n",
      "test_loss = 0.35, test_accuracy = 0.84, test_precision = 0.92\n",
      "epoch_i =  1\n",
      "train_loss = 0.21, train_accuracy = 0.91, train_precision = 0.93\n",
      "test_loss = 0.35, test_accuracy = 0.86, test_precision = 0.91\n",
      "epoch_i =  2\n",
      "train_loss = 0.11, train_accuracy = 0.95, train_precision = 0.97\n",
      "test_loss = 0.57, test_accuracy = 0.85, test_precision = 0.88\n",
      "epoch_i =  3\n",
      "train_loss = 0.06, train_accuracy = 0.98, train_precision = 0.99\n",
      "test_loss = 0.69, test_accuracy = 0.83, test_precision = 0.87\n"
     ]
    }
   ],
   "source": [
    "# train model\n",
    "epochs = 4\n",
    "train_losses = []\n",
    "test_losses = []\n",
    "train_accuracies = []\n",
    "train_precisions = []\n",
    "test_accuracies = []\n",
    "test_precisions = []\n",
    "\n",
    "for epoch_i in range(epochs):\n",
    "    train_loss = 0\n",
    "    test_loss = 0\n",
    "    train_accuracy = 0\n",
    "    train_precision = 0\n",
    "    test_accuracy = 0\n",
    "    test_precision = 0\n",
    "    \n",
    "    print(\"epoch_i = \", epoch_i)\n",
    "    # train\n",
    "    fc_model.train()\n",
    "    for X, y in train_dataloader:\n",
    "        X = X.view(X.shape[0], -1)\n",
    "        X = X.to(device)\n",
    "        y = y.to(device)\n",
    "        \n",
    "        optimizer.zero_grad()\n",
    "        \n",
    "        y_pred = fc_model(X.float())\n",
    "        \n",
    "        loss = loss_fn(y_pred, y.float().unsqueeze(1))\n",
    "        \n",
    "        loss.backward()\n",
    "        \n",
    "        optimizer.step()\n",
    "        \n",
    "        train_loss += loss.item()\n",
    "        \n",
    "        y_pred = y_pred.detach().cpu().numpy()\n",
    "        y_pred = np.where(y_pred > 0.5, 1, 0)\n",
    "        y = y.cpu().numpy()\n",
    "        \n",
    "        train_accuracy += accuracy_score(y, y_pred)\n",
    "        train_precision += precision_score(y, y_pred, average='binary', zero_division=1)\n",
    "        \n",
    "    train_loss /= len(train_dataloader)\n",
    "    train_accuracy /= len(train_dataloader)\n",
    "    train_precision /= len(train_dataloader)\n",
    "    \n",
    "    train_losses.append(train_loss)\n",
    "    train_accuracies.append(train_accuracy)\n",
    "    train_precisions.append(train_precision)\n",
    "\n",
    "    # print train loss, train accuracy, train precision in 1 line with 2 decimal points\n",
    "    print(\"train_loss = {:.2f}, train_accuracy = {:.2f}, train_precision = {:.2f}\".format(train_loss, train_accuracy, train_precision))\n",
    "    \n",
    "    # test\n",
    "    fc_model.eval()\n",
    "    with torch.no_grad():\n",
    "        for X, y in test_dataloader:\n",
    "            X = X.view(X.shape[0], -1)\n",
    "            X = X.to(device)\n",
    "            y = y.to(device)\n",
    "            \n",
    "            y_pred = fc_model(X.float())\n",
    "            \n",
    "            loss = loss_fn(y_pred, y.float().unsqueeze(1))\n",
    "            \n",
    "            test_loss += loss.item()\n",
    "            \n",
    "            y_pred = y_pred.detach().cpu().numpy()\n",
    "            y_pred = np.where(y_pred > 0.5, 1, 0)\n",
    "            y = y.cpu().numpy()\n",
    "            \n",
    "            test_accuracy += accuracy_score(y, y_pred)\n",
    "            test_precision += precision_score(y, y_pred, average='binary', zero_division=1)\n",
    "            \n",
    "    test_loss /= len(test_dataloader)\n",
    "    test_accuracy /= len(test_dataloader)\n",
    "    test_precision /= len(test_dataloader)\n",
    "    \n",
    "    test_losses.append(test_loss)\n",
    "    test_accuracies.append(test_accuracy)\n",
    "    test_precisions.append(test_precision)\n",
    "\n",
    "    # print test loss, test accuracy, test precision in 1 line with 2 decimal points\n",
    "    print(\"test_loss = {:.2f}, test_accuracy = {:.2f}, test_precision = {:.2f}\".format(test_loss, test_accuracy, test_precision))\n"
   ]
  },
  {
   "cell_type": "code",
   "execution_count": 20,
   "metadata": {},
   "outputs": [],
   "source": [
    "def plot_stats(train_losses, test_losses, train_accuracies, test_accuracies, train_precisions, test_precisions):\n",
    "    # plot train and test losses\n",
    "    plt.plot(train_losses, label='train loss')\n",
    "    plt.plot(test_losses, label='test loss')\n",
    "    plt.xlabel('Epoch')\n",
    "    plt.ylabel('Loss')\n",
    "    plt.legend()\n",
    "    plt.show()\n",
    "\n",
    "    # plot train and test accuracies\n",
    "    plt.plot(train_accuracies, label='train accuracy')\n",
    "    plt.plot(test_accuracies, label='test accuracy')\n",
    "    plt.xlabel('Epoch')\n",
    "    plt.ylabel('Accuracy')\n",
    "    plt.legend()\n",
    "    plt.show()\n",
    "    \n",
    "\n",
    "    # plot train and test precisions\n",
    "    plt.plot(train_precisions, label='train precision')\n",
    "    plt.plot(test_precisions, label='test precision')\n",
    "    plt.xlabel('Epoch')\n",
    "    plt.ylabel('Precision')\n",
    "    plt.legend()\n",
    "    plt.show()\n"
   ]
  },
  {
   "cell_type": "code",
   "execution_count": 21,
   "metadata": {},
   "outputs": [
    {
     "data": {
      "image/png": "[encoded data removed]",
      "text/plain": [
       "<Figure size 432x288 with 1 Axes>"
      ]
     },
     "metadata": {
      "needs_background": "light"
     },
     "output_type": "display_data"
    },
    {
     "data": {
      "image/png": "[encoded data removed]",
      "text/plain": [
       "<Figure size 432x288 with 1 Axes>"
      ]
     },
     "metadata": {
      "needs_background": "light"
     },
     "output_type": "display_data"
    },
    {
     "data": {
      "image/png": "[encoded data removed]",
      "text/plain": [
       "<Figure size 432x288 with 1 Axes>"
      ]
     },
     "metadata": {
      "needs_background": "light"
     },
     "output_type": "display_data"
    }
   ],
   "source": [
    "plot_stats(train_losses, test_losses, train_accuracies, test_accuracies, train_precisions, test_precisions)"
   ]
  },
  {
   "cell_type": "code",
   "execution_count": 22,
   "metadata": {},
   "outputs": [
    {
     "name": "stdout",
     "output_type": "stream",
     "text": [
      "final fully connected accuracy = 0.83\n",
      "final fully connected precision = 0.87\n"
     ]
    }
   ],
   "source": [
    "final_FC_accuracy = test_accuracies[-1]\n",
    "final_FC_precision = test_precisions[-1]\n",
    "\n",
    "print(\"final fully connected accuracy = {:.2f}\".format(final_FC_accuracy))\n",
    "print(\"final fully connected precision = {:.2f}\".format(final_FC_precision))"
   ]
  },
  {
   "cell_type": "markdown",
   "metadata": {},
   "source": [
    "# LSTM"
   ]
  },
  {
   "cell_type": "markdown",
   "metadata": {},
   "source": [
    "<div dir=\"rtl\">\n",
    "<font face=\"B Nazanin\" size=\"5\">\n",
    "یک لایه LSTM\n",
    "داریم که سایز ورودی ما برابر سایز بردار onehot\n",
    "است که یعنی 72 است.\n",
    "سایز لایه مخفی LSTM\n",
    "را ده برگزیدم\n",
    "و یک شبکه FC\n",
    "با یک لایه مخفی به سایز 5 هم به دنبال آن آورده ام. توجه کنید که مدل خیلی جنرال نوشته شده و میتوان هر تعداد لایه مخفی هم برای LSTM\n",
    "و هم برای FC\n",
    "بعد از ان داشت.\n",
    "\n",
    "توجه کنید که \n",
    "که اگر \n",
    "bidirectional\n",
    "برابر true\n",
    "باشد مدل صرفا با یک bidirectional-LSTM\n",
    "جایگزین میشود و برای همخوانی با FC\n",
    "در این حالت سایز ورودی FC\n",
    "هم اصلاح میشود.\n",
    "</font>\n",
    "</div>"
   ]
  },
  {
   "cell_type": "code",
   "execution_count": 23,
   "metadata": {},
   "outputs": [],
   "source": [
    "# we create a LSTM model\n",
    "# the input of model are [input_size, lstm_hidden_size, fc_hidden_layers, output_size]\n",
    "\n",
    "class My_lstm(nn.Module):\n",
    "    def __init__(self, input_size, lstm_hidden_size, fc_hidden_layers, output_size = 1, bidirectional=False):\n",
    "        super(My_lstm, self).__init__()\n",
    "        self.input_size = input_size\n",
    "        self.lstm_hidden_size = lstm_hidden_size\n",
    "        self.fc_hidden_layers = fc_hidden_layers\n",
    "        self.output_size = output_size\n",
    "        \n",
    "        self.lstm = nn.LSTM(self.input_size, self.lstm_hidden_size, batch_first=True, bidirectional=bidirectional)\n",
    "        \n",
    "        self.layers = []\n",
    "        \n",
    "        # first layer\n",
    "        if bidirectional:\n",
    "            self.layers.append(nn.Linear(self.lstm_hidden_size * 2, self.fc_hidden_layers[0]))\n",
    "        else:\n",
    "            self.layers.append(nn.Linear(self.lstm_hidden_size, self.fc_hidden_layers[0]))\n",
    "        \n",
    "        self.layers.append(nn.ReLU())\n",
    "        \n",
    "        # hidden layers\n",
    "        for i in range(len(self.fc_hidden_layers)-1):\n",
    "            self.layers.append(nn.Linear(self.fc_hidden_layers[i], self.fc_hidden_layers[i+1]))\n",
    "            self.layers.append(nn.ReLU())\n",
    "        \n",
    "        # output layer\n",
    "        self.layers.append(nn.Linear(self.fc_hidden_layers[-1], self.output_size))\n",
    "        self.layers.append(nn.Sigmoid())\n",
    "        \n",
    "        self.fc = nn.Sequential(*self.layers)\n",
    "        \n",
    "    def forward(self, x):\n",
    "        x, _ = self.lstm(x)\n",
    "        x = x[:, -1, :]\n",
    "        return self.fc(x)\n",
    "    \n",
    "\n"
   ]
  },
  {
   "cell_type": "markdown",
   "metadata": {},
   "source": [
    "<div dir=\"rtl\">\n",
    "<font face=\"B Nazanin\" size=\"5\">\n",
    "در زیر یک تابع برای آموزش مدل LSTM\n",
    "نوشته ام\n",
    "توجه کنید که میتوان به داده ها نویز هم اضافه کرد که من بعد ازینکه نتیجه بهتر نشد در آخرین اجرا از آن استفاده نکردم.\n",
    "\n",
    "تابع زیر در هر ایپاک\n",
    "صحت و دقت را روی دیتاست ترین و ولیدیشن حساب کرده و چاپ میکند\n",
    "</font>\n",
    "</div>"
   ]
  },
  {
   "cell_type": "code",
   "execution_count": 24,
   "metadata": {},
   "outputs": [],
   "source": [
    "def train_lstm(model, train_dataloader, test_dataloader, loss_fn, optimizer, device, epochs=4, \n",
    "               add_data_noise=False, data_noise_std=0.01):\n",
    "    train_losses, train_accuracies, train_precisions = [], [], []\n",
    "    test_losses, test_accuracies, test_precisions = [], [], []\n",
    "\n",
    "    model = model.to(device)\n",
    "\n",
    "    for epoch_i in range(epochs):\n",
    "        train_loss = 0\n",
    "        train_accuracy = 0\n",
    "        train_precision = 0\n",
    "\n",
    "        model.train()\n",
    "\n",
    "        for X, y in train_dataloader:\n",
    "\n",
    "\n",
    "\n",
    "            X = X.to(device)\n",
    "            y = y.to(device)\n",
    "\n",
    "\n",
    "            if add_data_noise:\n",
    "                X += torch.randn_like(X) * data_noise_std\n",
    "           \n",
    "\n",
    "            optimizer.zero_grad()\n",
    "\n",
    "            y_pred = model(X.float())\n",
    "\n",
    "            loss = loss_fn(y_pred, y.float().unsqueeze(1))\n",
    "\n",
    "            loss.backward()\n",
    "\n",
    "            optimizer.step()\n",
    "\n",
    "            train_loss += loss.item()\n",
    "\n",
    "            y_pred = y_pred.detach().cpu().numpy()\n",
    "            y_pred = np.where(y_pred > 0.5, 1, 0)\n",
    "            y = y.cpu().numpy()\n",
    "\n",
    "            train_accuracy += accuracy_score(y, y_pred)\n",
    "            train_precision += precision_score(y, y_pred, average='binary', zero_division=1)\n",
    "\n",
    "        train_loss /= len(train_dataloader)\n",
    "        train_accuracy /= len(train_dataloader)\n",
    "        train_precision /= len(train_dataloader)\n",
    "\n",
    "        train_losses.append(train_loss)\n",
    "        train_accuracies.append(train_accuracy)\n",
    "        train_precisions.append(train_precision)\n",
    "\n",
    "        print(\"Epoch {}: train_loss = {:.2f}, train_accuracy = {:.2f}, train_precision = {:.2f}\".format(epoch_i, train_loss, train_accuracy, train_precision))\n",
    "\n",
    "        model.eval()\n",
    "        with torch.no_grad():\n",
    "            test_loss = 0\n",
    "            test_accuracy = 0\n",
    "            test_precision = 0\n",
    "\n",
    "            for X, y in test_dataloader:\n",
    "                X = X.to(device)\n",
    "                y = y.to(device)\n",
    "\n",
    "                y_pred = model(X.float())\n",
    "\n",
    "                loss = loss_fn(y_pred, y.float().unsqueeze(1))\n",
    "\n",
    "                test_loss += loss.item()\n",
    "\n",
    "                y_pred = y_pred.detach().cpu().numpy()\n",
    "                y_pred = np.where(y_pred > 0.5, 1, 0)\n",
    "                y = y.cpu().numpy()\n",
    "\n",
    "                test_accuracy += accuracy_score(y, y_pred)\n",
    "                test_precision += precision_score(y, y_pred, average='binary', zero_division=1)\n",
    "\n",
    "            test_loss /= len(test_dataloader)\n",
    "            test_accuracy /= len(test_dataloader)\n",
    "            test_precision /= len(test_dataloader)\n",
    "\n",
    "            test_losses.append(test_loss)\n",
    "            test_accuracies.append(test_accuracy)\n",
    "            test_precisions.append(test_precision)\n",
    "\n",
    "            print(\"Test: test_loss = {:.2f}, test_accuracy = {:.2f}, test_precision = {:.2f}\".format(test_loss, test_accuracy, test_precision))\n",
    "            print(\"-\" * 30)\n",
    "\n",
    "    \n",
    "    return train_losses, train_accuracies, train_precisions, test_losses, test_accuracies, test_precisions\n"
   ]
  },
  {
   "cell_type": "markdown",
   "metadata": {},
   "source": [
    "<div dir=\"rtl\">\n",
    "<font face=\"B Nazanin\" size=\"5\">\n",
    "در زیر یک تابع نوشته ام که دیتاست را به \n",
    "kfold\n",
    "تقسیم میکند و هر بار مدل را از نو میسازد\n",
    "\n",
    "توجه کنید که من دیتا را 5 فولد کردم و \n",
    "batch_size=16\n",
    "است و اپتیمایزر آدام است با نرخ یادگیری 0.001\n",
    "است و به اندازه 20 ایپاک یادگیری انجام شده است و با توجه به نمودار ها امکان ترین بیشتر هم بود که برای آنکه ران طولانی نشود بیخیال شدم.\n",
    "</font>\n",
    "</div>"
   ]
  },
  {
   "cell_type": "code",
   "execution_count": 25,
   "metadata": {},
   "outputs": [],
   "source": [
    "def k_fold_cross_validation_lstm(dataset, loss_fn, device, k=5, batch_size=32, epochs=4, \n",
    "               add_data_noise=False, data_noise_std=0.01, lr = 0.0001):\n",
    "    kf = KFold(n_splits=k, shuffle=True)\n",
    "\n",
    "    avg_train_losses, avg_train_accuracies, avg_train_precisions = [], [], []\n",
    "    avg_test_losses, avg_test_accuracies, avg_test_precisions = [], [], []\n",
    "\n",
    "    for fold, (train_idx, test_idx) in enumerate(kf.split(dataset)):\n",
    "        print(f\"\\nFold {fold + 1}/{k}\")\n",
    "\n",
    "        train_dataset = torch.utils.data.Subset(dataset, train_idx)\n",
    "        test_dataset = torch.utils.data.Subset(dataset, test_idx)\n",
    "\n",
    "        train_dataloader = DataLoader(train_dataset, batch_size=batch_size, shuffle=True)\n",
    "        test_dataloader = DataLoader(test_dataset, batch_size=batch_size, shuffle=False)\n",
    "\n",
    "        model = My_lstm(number_of_unique_vocab, 10, [5], 1)\n",
    "        optimizer = optim.Adam(model.parameters(), lr=lr)\n",
    "        model = model.to(device)\n",
    "\n",
    "        stat = train_lstm(model, train_dataloader, test_dataloader, loss_fn, optimizer, device, epochs=epochs, \n",
    "                          add_data_noise=add_data_noise, data_noise_std=data_noise_std)\n",
    "        train_losses, train_accuracies, train_precisions, test_losses, test_accuracies, test_precisions = stat\n",
    "\n",
    "        avg_train_losses.append(train_losses)\n",
    "        avg_train_accuracies.append(train_accuracies)\n",
    "        avg_train_precisions.append(train_precisions)\n",
    "\n",
    "        avg_test_losses.append(test_losses)\n",
    "        avg_test_accuracies.append(test_accuracies)\n",
    "        avg_test_precisions.append(test_precisions)\n",
    "\n",
    "\n",
    "        print(\"=\" * 50)\n",
    "\n",
    "    avg_train_losses = np.array(avg_train_losses).mean(axis=0)\n",
    "    avg_train_accuracies = np.array(avg_train_accuracies).mean(axis=0)\n",
    "    avg_train_precisions = np.array(avg_train_precisions).mean(axis=0)\n",
    "\n",
    "    avg_test_losses = np.array(avg_test_losses).mean(axis=0)\n",
    "    avg_test_accuracies = np.array(avg_test_accuracies).mean(axis=0)\n",
    "    avg_test_precisions = np.array(avg_test_precisions).mean(axis=0)\n",
    "\n",
    "    return (avg_train_losses, avg_train_accuracies, avg_train_precisions, avg_test_losses, avg_test_accuracies, avg_test_precisions), model"
   ]
  },
  {
   "cell_type": "code",
   "execution_count": 26,
   "metadata": {},
   "outputs": [
    {
     "name": "stdout",
     "output_type": "stream",
     "text": [
      "\n",
      "Fold 1/5\n"
     ]
    },
    {
     "name": "stdout",
     "output_type": "stream",
     "text": [
      "Epoch 0: train_loss = 0.71, train_accuracy = 0.44, train_precision = 0.92\n",
      "Test: test_loss = 0.56, test_accuracy = 0.76, test_precision = 0.76\n",
      "------------------------------\n",
      "Epoch 1: train_loss = 0.54, train_accuracy = 0.77, train_precision = 0.77\n",
      "Test: test_loss = 0.55, test_accuracy = 0.76, test_precision = 0.76\n",
      "------------------------------\n",
      "Epoch 2: train_loss = 0.52, train_accuracy = 0.77, train_precision = 0.77\n",
      "Test: test_loss = 0.47, test_accuracy = 0.76, test_precision = 0.76\n",
      "------------------------------\n",
      "Epoch 3: train_loss = 0.44, train_accuracy = 0.77, train_precision = 0.77\n",
      "Test: test_loss = 0.40, test_accuracy = 0.76, test_precision = 0.76\n",
      "------------------------------\n",
      "Epoch 4: train_loss = 0.42, train_accuracy = 0.78, train_precision = 0.80\n",
      "Test: test_loss = 0.38, test_accuracy = 0.76, test_precision = 0.76\n",
      "------------------------------\n",
      "Epoch 5: train_loss = 0.44, train_accuracy = 0.78, train_precision = 0.78\n",
      "Test: test_loss = 0.44, test_accuracy = 0.75, test_precision = 0.76\n",
      "------------------------------\n",
      "Epoch 6: train_loss = 0.41, train_accuracy = 0.79, train_precision = 0.79\n",
      "Test: test_loss = 0.37, test_accuracy = 0.80, test_precision = 0.77\n",
      "------------------------------\n",
      "Epoch 7: train_loss = 0.36, train_accuracy = 0.84, train_precision = 0.86\n",
      "Test: test_loss = 0.35, test_accuracy = 0.83, test_precision = 0.78\n",
      "------------------------------\n",
      "Epoch 8: train_loss = 0.35, train_accuracy = 0.84, train_precision = 0.86\n",
      "Test: test_loss = 0.35, test_accuracy = 0.82, test_precision = 0.77\n",
      "------------------------------\n",
      "Epoch 9: train_loss = 0.35, train_accuracy = 0.84, train_precision = 0.87\n",
      "Test: test_loss = 0.33, test_accuracy = 0.84, test_precision = 0.78\n",
      "------------------------------\n",
      "Epoch 10: train_loss = 0.34, train_accuracy = 0.85, train_precision = 0.88\n",
      "Test: test_loss = 0.33, test_accuracy = 0.84, test_precision = 0.79\n",
      "------------------------------\n",
      "Epoch 11: train_loss = 0.33, train_accuracy = 0.85, train_precision = 0.88\n",
      "Test: test_loss = 0.34, test_accuracy = 0.83, test_precision = 0.78\n",
      "------------------------------\n",
      "Epoch 12: train_loss = 0.33, train_accuracy = 0.86, train_precision = 0.88\n",
      "Test: test_loss = 0.33, test_accuracy = 0.83, test_precision = 0.77\n",
      "------------------------------\n",
      "Epoch 13: train_loss = 0.33, train_accuracy = 0.85, train_precision = 0.88\n",
      "Test: test_loss = 0.32, test_accuracy = 0.84, test_precision = 0.82\n",
      "------------------------------\n",
      "Epoch 14: train_loss = 0.32, train_accuracy = 0.85, train_precision = 0.88\n",
      "Test: test_loss = 0.32, test_accuracy = 0.84, test_precision = 0.82\n",
      "------------------------------\n",
      "Epoch 15: train_loss = 0.32, train_accuracy = 0.86, train_precision = 0.89\n",
      "Test: test_loss = 0.32, test_accuracy = 0.85, test_precision = 0.83\n",
      "------------------------------\n",
      "Epoch 16: train_loss = 0.31, train_accuracy = 0.86, train_precision = 0.89\n",
      "Test: test_loss = 0.31, test_accuracy = 0.84, test_precision = 0.78\n",
      "------------------------------\n",
      "Epoch 17: train_loss = 0.32, train_accuracy = 0.87, train_precision = 0.89\n",
      "Test: test_loss = 0.37, test_accuracy = 0.82, test_precision = 0.78\n",
      "------------------------------\n",
      "Epoch 18: train_loss = 0.33, train_accuracy = 0.86, train_precision = 0.89\n",
      "Test: test_loss = 0.32, test_accuracy = 0.84, test_precision = 0.82\n",
      "------------------------------\n",
      "Epoch 19: train_loss = 0.30, train_accuracy = 0.87, train_precision = 0.89\n",
      "Test: test_loss = 0.32, test_accuracy = 0.84, test_precision = 0.78\n",
      "------------------------------\n",
      "==================================================\n",
      "\n",
      "Fold 2/5\n",
      "Epoch 0: train_loss = 0.57, train_accuracy = 0.77, train_precision = 0.77\n",
      "Test: test_loss = 0.56, test_accuracy = 0.76, test_precision = 0.76\n",
      "------------------------------\n",
      "Epoch 1: train_loss = 0.51, train_accuracy = 0.77, train_precision = 0.77\n",
      "Test: test_loss = 0.48, test_accuracy = 0.76, test_precision = 0.76\n",
      "------------------------------\n",
      "Epoch 2: train_loss = 0.44, train_accuracy = 0.77, train_precision = 0.77\n",
      "Test: test_loss = 0.43, test_accuracy = 0.76, test_precision = 0.76\n",
      "------------------------------\n",
      "Epoch 3: train_loss = 0.41, train_accuracy = 0.77, train_precision = 0.77\n",
      "Test: test_loss = 0.41, test_accuracy = 0.76, test_precision = 0.76\n",
      "------------------------------\n",
      "Epoch 4: train_loss = 0.39, train_accuracy = 0.76, train_precision = 0.76\n",
      "Test: test_loss = 0.39, test_accuracy = 0.76, test_precision = 0.76\n",
      "------------------------------\n",
      "Epoch 5: train_loss = 0.38, train_accuracy = 0.78, train_precision = 0.81\n",
      "Test: test_loss = 0.38, test_accuracy = 0.80, test_precision = 0.79\n",
      "------------------------------\n",
      "Epoch 6: train_loss = 0.37, train_accuracy = 0.80, train_precision = 0.88\n",
      "Test: test_loss = 0.38, test_accuracy = 0.80, test_precision = 0.78\n",
      "------------------------------\n",
      "Epoch 7: train_loss = 0.36, train_accuracy = 0.80, train_precision = 0.90\n",
      "Test: test_loss = 0.37, test_accuracy = 0.80, test_precision = 0.78\n",
      "------------------------------\n",
      "Epoch 8: train_loss = 0.35, train_accuracy = 0.81, train_precision = 0.90\n",
      "Test: test_loss = 0.37, test_accuracy = 0.81, test_precision = 0.79\n",
      "------------------------------\n",
      "Epoch 9: train_loss = 0.35, train_accuracy = 0.80, train_precision = 0.90\n",
      "Test: test_loss = 0.37, test_accuracy = 0.81, test_precision = 0.80\n",
      "------------------------------\n",
      "Epoch 10: train_loss = 0.34, train_accuracy = 0.81, train_precision = 0.90\n",
      "Test: test_loss = 0.41, test_accuracy = 0.79, test_precision = 0.80\n",
      "------------------------------\n",
      "Epoch 11: train_loss = 0.34, train_accuracy = 0.82, train_precision = 0.91\n",
      "Test: test_loss = 0.36, test_accuracy = 0.83, test_precision = 0.80\n",
      "------------------------------\n",
      "Epoch 12: train_loss = 0.34, train_accuracy = 0.83, train_precision = 0.90\n",
      "Test: test_loss = 0.37, test_accuracy = 0.84, test_precision = 0.80\n",
      "------------------------------\n",
      "Epoch 13: train_loss = 0.33, train_accuracy = 0.84, train_precision = 0.89\n",
      "Test: test_loss = 0.35, test_accuracy = 0.84, test_precision = 0.81\n",
      "------------------------------\n",
      "Epoch 14: train_loss = 0.31, train_accuracy = 0.84, train_precision = 0.90\n",
      "Test: test_loss = 0.35, test_accuracy = 0.86, test_precision = 0.81\n",
      "------------------------------\n",
      "Epoch 15: train_loss = 0.31, train_accuracy = 0.85, train_precision = 0.90\n",
      "Test: test_loss = 0.35, test_accuracy = 0.87, test_precision = 0.82\n",
      "------------------------------\n",
      "Epoch 16: train_loss = 0.31, train_accuracy = 0.85, train_precision = 0.90\n",
      "Test: test_loss = 0.33, test_accuracy = 0.84, test_precision = 0.82\n",
      "------------------------------\n",
      "Epoch 17: train_loss = 0.30, train_accuracy = 0.86, train_precision = 0.91\n",
      "Test: test_loss = 0.34, test_accuracy = 0.84, test_precision = 0.82\n",
      "------------------------------\n",
      "Epoch 18: train_loss = 0.30, train_accuracy = 0.86, train_precision = 0.91\n",
      "Test: test_loss = 0.32, test_accuracy = 0.86, test_precision = 0.82\n",
      "------------------------------\n",
      "Epoch 19: train_loss = 0.29, train_accuracy = 0.86, train_precision = 0.91\n",
      "Test: test_loss = 0.35, test_accuracy = 0.82, test_precision = 0.82\n",
      "------------------------------\n",
      "==================================================\n",
      "\n",
      "Fold 3/5\n",
      "Epoch 0: train_loss = 0.77, train_accuracy = 0.24, train_precision = 1.00\n",
      "Test: test_loss = 0.71, test_accuracy = 0.21, test_precision = 1.00\n",
      "------------------------------\n",
      "Epoch 1: train_loss = 0.60, train_accuracy = 0.73, train_precision = 0.77\n",
      "Test: test_loss = 0.52, test_accuracy = 0.79, test_precision = 0.79\n",
      "------------------------------\n",
      "Epoch 2: train_loss = 0.55, train_accuracy = 0.76, train_precision = 0.76\n",
      "Test: test_loss = 0.52, test_accuracy = 0.79, test_precision = 0.79\n",
      "------------------------------\n",
      "Epoch 3: train_loss = 0.55, train_accuracy = 0.76, train_precision = 0.76\n",
      "Test: test_loss = 0.51, test_accuracy = 0.79, test_precision = 0.79\n",
      "------------------------------\n",
      "Epoch 4: train_loss = 0.55, train_accuracy = 0.76, train_precision = 0.76\n",
      "Test: test_loss = 0.51, test_accuracy = 0.79, test_precision = 0.79\n",
      "------------------------------\n",
      "Epoch 5: train_loss = 0.54, train_accuracy = 0.76, train_precision = 0.76\n",
      "Test: test_loss = 0.50, test_accuracy = 0.79, test_precision = 0.79\n",
      "------------------------------\n",
      "Epoch 6: train_loss = 0.48, train_accuracy = 0.76, train_precision = 0.76\n",
      "Test: test_loss = 0.41, test_accuracy = 0.78, test_precision = 0.79\n",
      "------------------------------\n",
      "Epoch 7: train_loss = 0.41, train_accuracy = 0.77, train_precision = 0.80\n",
      "Test: test_loss = 0.37, test_accuracy = 0.81, test_precision = 0.80\n",
      "------------------------------\n",
      "Epoch 8: train_loss = 0.39, train_accuracy = 0.81, train_precision = 0.85\n",
      "Test: test_loss = 0.37, test_accuracy = 0.81, test_precision = 0.80\n",
      "------------------------------\n",
      "Epoch 9: train_loss = 0.37, train_accuracy = 0.82, train_precision = 0.85\n",
      "Test: test_loss = 0.35, test_accuracy = 0.82, test_precision = 0.80\n",
      "------------------------------\n",
      "Epoch 10: train_loss = 0.35, train_accuracy = 0.84, train_precision = 0.87\n",
      "Test: test_loss = 0.36, test_accuracy = 0.82, test_precision = 0.81\n",
      "------------------------------\n",
      "Epoch 11: train_loss = 0.36, train_accuracy = 0.84, train_precision = 0.89\n",
      "Test: test_loss = 0.34, test_accuracy = 0.84, test_precision = 0.80\n",
      "------------------------------\n",
      "Epoch 12: train_loss = 0.34, train_accuracy = 0.85, train_precision = 0.88\n",
      "Test: test_loss = 0.33, test_accuracy = 0.84, test_precision = 0.81\n",
      "------------------------------\n",
      "Epoch 13: train_loss = 0.33, train_accuracy = 0.85, train_precision = 0.89\n",
      "Test: test_loss = 0.33, test_accuracy = 0.84, test_precision = 0.81\n",
      "------------------------------\n",
      "Epoch 14: train_loss = 0.32, train_accuracy = 0.86, train_precision = 0.89\n",
      "Test: test_loss = 0.33, test_accuracy = 0.83, test_precision = 0.81\n",
      "------------------------------\n",
      "Epoch 15: train_loss = 0.31, train_accuracy = 0.86, train_precision = 0.91\n",
      "Test: test_loss = 0.32, test_accuracy = 0.84, test_precision = 0.81\n",
      "------------------------------\n",
      "Epoch 16: train_loss = 0.32, train_accuracy = 0.86, train_precision = 0.91\n",
      "Test: test_loss = 0.34, test_accuracy = 0.83, test_precision = 0.81\n",
      "------------------------------\n",
      "Epoch 17: train_loss = 0.30, train_accuracy = 0.87, train_precision = 0.90\n",
      "Test: test_loss = 0.32, test_accuracy = 0.84, test_precision = 0.82\n",
      "------------------------------\n",
      "Epoch 18: train_loss = 0.29, train_accuracy = 0.87, train_precision = 0.92\n",
      "Test: test_loss = 0.31, test_accuracy = 0.84, test_precision = 0.82\n",
      "------------------------------\n",
      "Epoch 19: train_loss = 0.29, train_accuracy = 0.88, train_precision = 0.92\n",
      "Test: test_loss = 0.32, test_accuracy = 0.82, test_precision = 0.84\n",
      "------------------------------\n",
      "==================================================\n",
      "\n",
      "Fold 4/5\n",
      "Epoch 0: train_loss = 0.67, train_accuracy = 0.52, train_precision = 0.86\n",
      "Test: test_loss = 0.55, test_accuracy = 0.76, test_precision = 0.76\n",
      "------------------------------\n",
      "Epoch 1: train_loss = 0.54, train_accuracy = 0.77, train_precision = 0.77\n",
      "Test: test_loss = 0.53, test_accuracy = 0.76, test_precision = 0.76\n",
      "------------------------------\n",
      "Epoch 2: train_loss = 0.48, train_accuracy = 0.77, train_precision = 0.77\n",
      "Test: test_loss = 0.44, test_accuracy = 0.76, test_precision = 0.76\n",
      "------------------------------\n",
      "Epoch 3: train_loss = 0.41, train_accuracy = 0.77, train_precision = 0.77\n",
      "Test: test_loss = 0.42, test_accuracy = 0.77, test_precision = 0.77\n",
      "------------------------------\n",
      "Epoch 4: train_loss = 0.38, train_accuracy = 0.80, train_precision = 0.80\n",
      "Test: test_loss = 0.41, test_accuracy = 0.79, test_precision = 0.78\n",
      "------------------------------\n",
      "Epoch 5: train_loss = 0.36, train_accuracy = 0.83, train_precision = 0.85\n",
      "Test: test_loss = 0.40, test_accuracy = 0.81, test_precision = 0.79\n",
      "------------------------------\n",
      "Epoch 6: train_loss = 0.35, train_accuracy = 0.84, train_precision = 0.87\n",
      "Test: test_loss = 0.43, test_accuracy = 0.81, test_precision = 0.80\n",
      "------------------------------\n",
      "Epoch 7: train_loss = 0.36, train_accuracy = 0.84, train_precision = 0.87\n",
      "Test: test_loss = 0.41, test_accuracy = 0.81, test_precision = 0.80\n",
      "------------------------------\n",
      "Epoch 8: train_loss = 0.34, train_accuracy = 0.84, train_precision = 0.88\n",
      "Test: test_loss = 0.41, test_accuracy = 0.81, test_precision = 0.80\n",
      "------------------------------\n",
      "Epoch 9: train_loss = 0.34, train_accuracy = 0.84, train_precision = 0.87\n",
      "Test: test_loss = 0.39, test_accuracy = 0.82, test_precision = 0.80\n",
      "------------------------------\n",
      "Epoch 10: train_loss = 0.34, train_accuracy = 0.84, train_precision = 0.87\n",
      "Test: test_loss = 0.38, test_accuracy = 0.82, test_precision = 0.81\n",
      "------------------------------\n",
      "Epoch 11: train_loss = 0.33, train_accuracy = 0.84, train_precision = 0.87\n",
      "Test: test_loss = 0.38, test_accuracy = 0.81, test_precision = 0.81\n",
      "------------------------------\n",
      "Epoch 12: train_loss = 0.33, train_accuracy = 0.84, train_precision = 0.87\n",
      "Test: test_loss = 0.39, test_accuracy = 0.83, test_precision = 0.81\n",
      "------------------------------\n",
      "Epoch 13: train_loss = 0.32, train_accuracy = 0.85, train_precision = 0.87\n",
      "Test: test_loss = 0.38, test_accuracy = 0.84, test_precision = 0.81\n",
      "------------------------------\n",
      "Epoch 14: train_loss = 0.32, train_accuracy = 0.85, train_precision = 0.87\n",
      "Test: test_loss = 0.38, test_accuracy = 0.83, test_precision = 0.81\n",
      "------------------------------\n",
      "Epoch 15: train_loss = 0.32, train_accuracy = 0.85, train_precision = 0.88\n",
      "Test: test_loss = 0.41, test_accuracy = 0.84, test_precision = 0.81\n",
      "------------------------------\n",
      "Epoch 16: train_loss = 0.32, train_accuracy = 0.85, train_precision = 0.88\n",
      "Test: test_loss = 0.37, test_accuracy = 0.83, test_precision = 0.82\n",
      "------------------------------\n",
      "Epoch 17: train_loss = 0.31, train_accuracy = 0.85, train_precision = 0.88\n",
      "Test: test_loss = 0.38, test_accuracy = 0.82, test_precision = 0.82\n",
      "------------------------------\n",
      "Epoch 18: train_loss = 0.33, train_accuracy = 0.86, train_precision = 0.89\n",
      "Test: test_loss = 0.38, test_accuracy = 0.84, test_precision = 0.81\n",
      "------------------------------\n",
      "Epoch 19: train_loss = 0.31, train_accuracy = 0.85, train_precision = 0.89\n",
      "Test: test_loss = 0.37, test_accuracy = 0.84, test_precision = 0.82\n",
      "------------------------------\n",
      "==================================================\n",
      "\n",
      "Fold 5/5\n",
      "Epoch 0: train_loss = 0.64, train_accuracy = 0.66, train_precision = 0.81\n",
      "Test: test_loss = 0.55, test_accuracy = 0.77, test_precision = 0.77\n",
      "------------------------------\n",
      "Epoch 1: train_loss = 0.55, train_accuracy = 0.76, train_precision = 0.76\n",
      "Test: test_loss = 0.53, test_accuracy = 0.77, test_precision = 0.77\n",
      "------------------------------\n",
      "Epoch 2: train_loss = 0.53, train_accuracy = 0.77, train_precision = 0.77\n",
      "Test: test_loss = 0.51, test_accuracy = 0.77, test_precision = 0.77\n",
      "------------------------------\n",
      "Epoch 3: train_loss = 0.49, train_accuracy = 0.76, train_precision = 0.76\n",
      "Test: test_loss = 0.43, test_accuracy = 0.77, test_precision = 0.77\n",
      "------------------------------\n",
      "Epoch 4: train_loss = 0.43, train_accuracy = 0.76, train_precision = 0.76\n",
      "Test: test_loss = 0.37, test_accuracy = 0.77, test_precision = 0.77\n",
      "------------------------------\n",
      "Epoch 5: train_loss = 0.40, train_accuracy = 0.78, train_precision = 0.78\n",
      "Test: test_loss = 0.36, test_accuracy = 0.84, test_precision = 0.80\n",
      "------------------------------\n",
      "Epoch 6: train_loss = 0.39, train_accuracy = 0.81, train_precision = 0.84\n",
      "Test: test_loss = 0.34, test_accuracy = 0.85, test_precision = 0.81\n",
      "------------------------------\n",
      "Epoch 7: train_loss = 0.37, train_accuracy = 0.82, train_precision = 0.85\n",
      "Test: test_loss = 0.34, test_accuracy = 0.85, test_precision = 0.82\n",
      "------------------------------\n",
      "Epoch 8: train_loss = 0.36, train_accuracy = 0.83, train_precision = 0.87\n",
      "Test: test_loss = 0.33, test_accuracy = 0.85, test_precision = 0.81\n",
      "------------------------------\n",
      "Epoch 9: train_loss = 0.35, train_accuracy = 0.83, train_precision = 0.87\n",
      "Test: test_loss = 0.32, test_accuracy = 0.86, test_precision = 0.82\n",
      "------------------------------\n",
      "Epoch 10: train_loss = 0.35, train_accuracy = 0.83, train_precision = 0.87\n",
      "Test: test_loss = 0.32, test_accuracy = 0.86, test_precision = 0.82\n",
      "------------------------------\n",
      "Epoch 11: train_loss = 0.34, train_accuracy = 0.85, train_precision = 0.88\n",
      "Test: test_loss = 0.31, test_accuracy = 0.86, test_precision = 0.81\n",
      "------------------------------\n",
      "Epoch 12: train_loss = 0.34, train_accuracy = 0.85, train_precision = 0.88\n",
      "Test: test_loss = 0.31, test_accuracy = 0.86, test_precision = 0.82\n",
      "------------------------------\n",
      "Epoch 13: train_loss = 0.32, train_accuracy = 0.85, train_precision = 0.89\n",
      "Test: test_loss = 0.31, test_accuracy = 0.86, test_precision = 0.81\n",
      "------------------------------\n",
      "Epoch 14: train_loss = 0.34, train_accuracy = 0.84, train_precision = 0.89\n",
      "Test: test_loss = 0.31, test_accuracy = 0.86, test_precision = 0.83\n",
      "------------------------------\n",
      "Epoch 15: train_loss = 0.31, train_accuracy = 0.85, train_precision = 0.89\n",
      "Test: test_loss = 0.30, test_accuracy = 0.86, test_precision = 0.82\n",
      "------------------------------\n",
      "Epoch 16: train_loss = 0.31, train_accuracy = 0.85, train_precision = 0.90\n",
      "Test: test_loss = 0.32, test_accuracy = 0.85, test_precision = 0.83\n",
      "------------------------------\n",
      "Epoch 17: train_loss = 0.31, train_accuracy = 0.85, train_precision = 0.90\n",
      "Test: test_loss = 0.35, test_accuracy = 0.84, test_precision = 0.80\n",
      "------------------------------\n",
      "Epoch 18: train_loss = 0.31, train_accuracy = 0.85, train_precision = 0.89\n",
      "Test: test_loss = 0.32, test_accuracy = 0.86, test_precision = 0.82\n",
      "------------------------------\n",
      "Epoch 19: train_loss = 0.31, train_accuracy = 0.86, train_precision = 0.91\n",
      "Test: test_loss = 0.31, test_accuracy = 0.86, test_precision = 0.81\n",
      "------------------------------\n",
      "==================================================\n"
     ]
    }
   ],
   "source": [
    "noise_std = 0.0\n",
    "k = 5\n",
    "batch_size = 16\n",
    "epochs = 20\n",
    "lr = 0.001\n",
    "\n",
    "# create loss function\n",
    "loss_fn = nn.BCELoss()\n",
    "\n",
    "\n",
    "stat, lstm_model = k_fold_cross_validation_lstm(dataset, loss_fn, device, k=k, batch_size=16, epochs=epochs,\n",
    "                               add_data_noise=True, data_noise_std=noise_std, lr =lr)\n",
    "\n"
   ]
  },
  {
   "cell_type": "code",
   "execution_count": 27,
   "metadata": {},
   "outputs": [
    {
     "data": {
      "image/png": "[encoded data removed]",
      "text/plain": [
       "<Figure size 432x288 with 1 Axes>"
      ]
     },
     "metadata": {
      "needs_background": "light"
     },
     "output_type": "display_data"
    },
    {
     "data": {
      "image/png": "[encoded data removed]",
      "text/plain": [
       "<Figure size 432x288 with 1 Axes>"
      ]
     },
     "metadata": {
      "needs_background": "light"
     },
     "output_type": "display_data"
    },
    {
     "data": {
      "image/png": "[encoded data removed]",
      "text/plain": [
       "<Figure size 432x288 with 1 Axes>"
      ]
     },
     "metadata": {
      "needs_background": "light"
     },
     "output_type": "display_data"
    }
   ],
   "source": [
    "avg_train_losses, avg_train_accuracies, avg_train_precisions, avg_test_losses, avg_test_accuracies, avg_test_precisions = stat\n",
    "plot_stats(avg_train_losses, avg_test_losses, avg_train_accuracies, avg_test_accuracies, avg_train_precisions, avg_test_precisions)"
   ]
  },
  {
   "cell_type": "code",
   "execution_count": 28,
   "metadata": {},
   "outputs": [
    {
     "name": "stdout",
     "output_type": "stream",
     "text": [
      "final LSTM accuracy = 0.83\n",
      "final LSTM precision = 0.81\n"
     ]
    }
   ],
   "source": [
    "final_lstm_accuracy = avg_test_accuracies[-1]\n",
    "final_lstm_precision = avg_test_precisions[-1]\n",
    "\n",
    "print(\"final LSTM accuracy = {:.2f}\".format(final_lstm_accuracy))\n",
    "print(\"final LSTM precision = {:.2f}\".format(final_lstm_precision))"
   ]
  },
  {
   "cell_type": "markdown",
   "metadata": {},
   "source": [
    "# Bi LSTM"
   ]
  },
  {
   "cell_type": "markdown",
   "metadata": {},
   "source": [
    "<div dir=\"rtl\">\n",
    "<font face=\"B Nazanin\" size=\"5\">\n",
    "همه چیز مشابه LSTM\n",
    "است و توضیح اضافه نمیدهم!\n",
    "</font>\n",
    "</div>"
   ]
  },
  {
   "cell_type": "code",
   "execution_count": 29,
   "metadata": {},
   "outputs": [],
   "source": [
    "def k_fold_cross_validation_bi_lstm(dataset, loss_fn, device, k=5, batch_size=32, epochs=4, \n",
    "               add_data_noise=False, data_noise_std=0.01, lr =0.0001):\n",
    "    kf = KFold(n_splits=k, shuffle=True)\n",
    "\n",
    "    avg_train_losses, avg_train_accuracies, avg_train_precisions = [], [], []\n",
    "    avg_test_losses, avg_test_accuracies, avg_test_precisions = [], [], []\n",
    "\n",
    "    for fold, (train_idx, test_idx) in enumerate(kf.split(dataset)):\n",
    "        print(f\"\\nFold {fold + 1}/{k}\")\n",
    "\n",
    "        train_dataset = torch.utils.data.Subset(dataset, train_idx)\n",
    "        test_dataset = torch.utils.data.Subset(dataset, test_idx)\n",
    "\n",
    "        train_dataloader = DataLoader(train_dataset, batch_size=batch_size, shuffle=True)\n",
    "        test_dataloader = DataLoader(test_dataset, batch_size=batch_size, shuffle=False)\n",
    "\n",
    "        model = My_lstm(number_of_unique_vocab, 10, [5], 1, bidirectional=True)\n",
    "        optimizer = optim.Adam(model.parameters(), lr=lr)\n",
    "        model = model.to(device)\n",
    "\n",
    "        stat = train_lstm(model, train_dataloader, test_dataloader, loss_fn, optimizer, device, epochs=epochs, \n",
    "                          add_data_noise=add_data_noise, data_noise_std=data_noise_std)\n",
    "        train_losses, train_accuracies, train_precisions, test_losses, test_accuracies, test_precisions = stat\n",
    "\n",
    "        avg_train_losses.append(train_losses)\n",
    "        avg_train_accuracies.append(train_accuracies)\n",
    "        avg_train_precisions.append(train_precisions)\n",
    "\n",
    "        avg_test_losses.append(test_losses)\n",
    "        avg_test_accuracies.append(test_accuracies)\n",
    "        avg_test_precisions.append(test_precisions)\n",
    "\n",
    "\n",
    "        print(\"=\" * 50)\n",
    "\n",
    "    avg_train_losses = np.array(avg_train_losses).mean(axis=0)\n",
    "    avg_train_accuracies = np.array(avg_train_accuracies).mean(axis=0)\n",
    "    avg_train_precisions = np.array(avg_train_precisions).mean(axis=0)\n",
    "\n",
    "    avg_test_losses = np.array(avg_test_losses).mean(axis=0)\n",
    "    avg_test_accuracies = np.array(avg_test_accuracies).mean(axis=0)\n",
    "    avg_test_precisions = np.array(avg_test_precisions).mean(axis=0)\n",
    "\n",
    "    return (avg_train_losses, avg_train_accuracies, avg_train_precisions, avg_test_losses, avg_test_accuracies, avg_test_precisions) , model"
   ]
  },
  {
   "cell_type": "code",
   "execution_count": 30,
   "metadata": {},
   "outputs": [
    {
     "name": "stdout",
     "output_type": "stream",
     "text": [
      "\n",
      "Fold 1/5\n",
      "Epoch 0: train_loss = 0.58, train_accuracy = 0.76, train_precision = 0.76\n",
      "Test: test_loss = 0.52, test_accuracy = 0.78, test_precision = 0.78\n",
      "------------------------------\n",
      "Epoch 1: train_loss = 0.53, train_accuracy = 0.76, train_precision = 0.76\n",
      "Test: test_loss = 0.50, test_accuracy = 0.78, test_precision = 0.78\n",
      "------------------------------\n",
      "Epoch 2: train_loss = 0.48, train_accuracy = 0.76, train_precision = 0.76\n",
      "Test: test_loss = 0.42, test_accuracy = 0.78, test_precision = 0.78\n",
      "------------------------------\n",
      "Epoch 3: train_loss = 0.42, train_accuracy = 0.76, train_precision = 0.76\n",
      "Test: test_loss = 0.39, test_accuracy = 0.77, test_precision = 0.78\n",
      "------------------------------\n",
      "Epoch 4: train_loss = 0.40, train_accuracy = 0.80, train_precision = 0.83\n",
      "Test: test_loss = 0.37, test_accuracy = 0.81, test_precision = 0.80\n",
      "------------------------------\n",
      "Epoch 5: train_loss = 0.37, train_accuracy = 0.82, train_precision = 0.86\n",
      "Test: test_loss = 0.39, test_accuracy = 0.77, test_precision = 0.80\n",
      "------------------------------\n",
      "Epoch 6: train_loss = 0.36, train_accuracy = 0.82, train_precision = 0.89\n",
      "Test: test_loss = 0.35, test_accuracy = 0.80, test_precision = 0.81\n",
      "------------------------------\n",
      "Epoch 7: train_loss = 0.35, train_accuracy = 0.84, train_precision = 0.88\n",
      "Test: test_loss = 0.35, test_accuracy = 0.81, test_precision = 0.82\n",
      "------------------------------\n",
      "Epoch 8: train_loss = 0.33, train_accuracy = 0.84, train_precision = 0.89\n",
      "Test: test_loss = 0.36, test_accuracy = 0.78, test_precision = 0.81\n",
      "------------------------------\n",
      "Epoch 9: train_loss = 0.33, train_accuracy = 0.85, train_precision = 0.90\n",
      "Test: test_loss = 0.34, test_accuracy = 0.85, test_precision = 0.82\n",
      "------------------------------\n",
      "Epoch 10: train_loss = 0.31, train_accuracy = 0.87, train_precision = 0.91\n",
      "Test: test_loss = 0.32, test_accuracy = 0.85, test_precision = 0.83\n",
      "------------------------------\n",
      "Epoch 11: train_loss = 0.30, train_accuracy = 0.88, train_precision = 0.92\n",
      "Test: test_loss = 0.32, test_accuracy = 0.86, test_precision = 0.83\n",
      "------------------------------\n",
      "Epoch 12: train_loss = 0.30, train_accuracy = 0.88, train_precision = 0.91\n",
      "Test: test_loss = 0.32, test_accuracy = 0.86, test_precision = 0.84\n",
      "------------------------------\n",
      "Epoch 13: train_loss = 0.28, train_accuracy = 0.87, train_precision = 0.91\n",
      "Test: test_loss = 0.31, test_accuracy = 0.86, test_precision = 0.83\n",
      "------------------------------\n",
      "Epoch 14: train_loss = 0.28, train_accuracy = 0.88, train_precision = 0.92\n",
      "Test: test_loss = 0.31, test_accuracy = 0.85, test_precision = 0.85\n",
      "------------------------------\n",
      "Epoch 15: train_loss = 0.27, train_accuracy = 0.89, train_precision = 0.93\n",
      "Test: test_loss = 0.31, test_accuracy = 0.85, test_precision = 0.84\n",
      "------------------------------\n",
      "Epoch 16: train_loss = 0.27, train_accuracy = 0.89, train_precision = 0.93\n",
      "Test: test_loss = 0.30, test_accuracy = 0.86, test_precision = 0.84\n",
      "------------------------------\n",
      "Epoch 17: train_loss = 0.26, train_accuracy = 0.89, train_precision = 0.93\n",
      "Test: test_loss = 0.33, test_accuracy = 0.86, test_precision = 0.82\n",
      "------------------------------\n",
      "Epoch 18: train_loss = 0.27, train_accuracy = 0.88, train_precision = 0.92\n",
      "Test: test_loss = 0.31, test_accuracy = 0.87, test_precision = 0.87\n",
      "------------------------------\n",
      "Epoch 19: train_loss = 0.26, train_accuracy = 0.90, train_precision = 0.93\n",
      "Test: test_loss = 0.30, test_accuracy = 0.87, test_precision = 0.84\n",
      "------------------------------\n",
      "==================================================\n",
      "\n",
      "Fold 2/5\n",
      "Epoch 0: train_loss = 0.62, train_accuracy = 0.77, train_precision = 0.77\n",
      "Test: test_loss = 0.61, test_accuracy = 0.75, test_precision = 0.75\n",
      "------------------------------\n",
      "Epoch 1: train_loss = 0.60, train_accuracy = 0.77, train_precision = 0.77\n",
      "Test: test_loss = 0.60, test_accuracy = 0.75, test_precision = 0.75\n",
      "------------------------------\n",
      "Epoch 2: train_loss = 0.59, train_accuracy = 0.77, train_precision = 0.77\n",
      "Test: test_loss = 0.59, test_accuracy = 0.75, test_precision = 0.75\n",
      "------------------------------\n",
      "Epoch 3: train_loss = 0.58, train_accuracy = 0.77, train_precision = 0.77\n",
      "Test: test_loss = 0.58, test_accuracy = 0.75, test_precision = 0.75\n",
      "------------------------------\n",
      "Epoch 4: train_loss = 0.57, train_accuracy = 0.77, train_precision = 0.77\n",
      "Test: test_loss = 0.57, test_accuracy = 0.75, test_precision = 0.75\n",
      "------------------------------\n",
      "Epoch 5: train_loss = 0.56, train_accuracy = 0.77, train_precision = 0.77\n",
      "Test: test_loss = 0.57, test_accuracy = 0.75, test_precision = 0.75\n",
      "------------------------------\n",
      "Epoch 6: train_loss = 0.55, train_accuracy = 0.77, train_precision = 0.77\n",
      "Test: test_loss = 0.55, test_accuracy = 0.75, test_precision = 0.75\n",
      "------------------------------\n",
      "Epoch 7: train_loss = 0.53, train_accuracy = 0.77, train_precision = 0.77\n",
      "Test: test_loss = 0.52, test_accuracy = 0.77, test_precision = 0.76\n",
      "------------------------------\n",
      "Epoch 8: train_loss = 0.50, train_accuracy = 0.81, train_precision = 0.82\n",
      "Test: test_loss = 0.50, test_accuracy = 0.83, test_precision = 0.82\n",
      "------------------------------\n",
      "Epoch 9: train_loss = 0.48, train_accuracy = 0.83, train_precision = 0.86\n",
      "Test: test_loss = 0.47, test_accuracy = 0.83, test_precision = 0.80\n",
      "------------------------------\n",
      "Epoch 10: train_loss = 0.46, train_accuracy = 0.84, train_precision = 0.86\n",
      "Test: test_loss = 0.44, test_accuracy = 0.85, test_precision = 0.81\n",
      "------------------------------\n",
      "Epoch 11: train_loss = 0.44, train_accuracy = 0.85, train_precision = 0.87\n",
      "Test: test_loss = 0.43, test_accuracy = 0.85, test_precision = 0.82\n",
      "------------------------------\n",
      "Epoch 12: train_loss = 0.42, train_accuracy = 0.85, train_precision = 0.88\n",
      "Test: test_loss = 0.45, test_accuracy = 0.83, test_precision = 0.79\n",
      "------------------------------\n",
      "Epoch 13: train_loss = 0.41, train_accuracy = 0.85, train_precision = 0.89\n",
      "Test: test_loss = 0.40, test_accuracy = 0.87, test_precision = 0.84\n",
      "------------------------------\n",
      "Epoch 14: train_loss = 0.40, train_accuracy = 0.87, train_precision = 0.89\n",
      "Test: test_loss = 0.40, test_accuracy = 0.86, test_precision = 0.81\n",
      "------------------------------\n",
      "Epoch 15: train_loss = 0.40, train_accuracy = 0.86, train_precision = 0.88\n",
      "Test: test_loss = 0.39, test_accuracy = 0.86, test_precision = 0.83\n",
      "------------------------------\n",
      "Epoch 16: train_loss = 0.38, train_accuracy = 0.87, train_precision = 0.89\n",
      "Test: test_loss = 0.38, test_accuracy = 0.86, test_precision = 0.83\n",
      "------------------------------\n",
      "Epoch 17: train_loss = 0.38, train_accuracy = 0.87, train_precision = 0.90\n",
      "Test: test_loss = 0.38, test_accuracy = 0.87, test_precision = 0.83\n",
      "------------------------------\n",
      "Epoch 18: train_loss = 0.36, train_accuracy = 0.87, train_precision = 0.90\n",
      "Test: test_loss = 0.37, test_accuracy = 0.86, test_precision = 0.83\n",
      "------------------------------\n",
      "Epoch 19: train_loss = 0.36, train_accuracy = 0.88, train_precision = 0.90\n",
      "Test: test_loss = 0.37, test_accuracy = 0.87, test_precision = 0.84\n",
      "------------------------------\n",
      "==================================================\n",
      "\n",
      "Fold 3/5\n",
      "Epoch 0: train_loss = 0.62, train_accuracy = 0.76, train_precision = 0.76\n",
      "Test: test_loss = 0.60, test_accuracy = 0.78, test_precision = 0.78\n",
      "------------------------------\n",
      "Epoch 1: train_loss = 0.60, train_accuracy = 0.76, train_precision = 0.76\n",
      "Test: test_loss = 0.59, test_accuracy = 0.78, test_precision = 0.78\n",
      "------------------------------\n",
      "Epoch 2: train_loss = 0.59, train_accuracy = 0.76, train_precision = 0.76\n",
      "Test: test_loss = 0.57, test_accuracy = 0.78, test_precision = 0.78\n",
      "------------------------------\n",
      "Epoch 3: train_loss = 0.58, train_accuracy = 0.76, train_precision = 0.76\n",
      "Test: test_loss = 0.56, test_accuracy = 0.78, test_precision = 0.78\n",
      "------------------------------\n",
      "Epoch 4: train_loss = 0.57, train_accuracy = 0.76, train_precision = 0.76\n",
      "Test: test_loss = 0.55, test_accuracy = 0.78, test_precision = 0.78\n",
      "------------------------------\n",
      "Epoch 5: train_loss = 0.53, train_accuracy = 0.78, train_precision = 0.78\n",
      "Test: test_loss = 0.51, test_accuracy = 0.83, test_precision = 0.80\n",
      "------------------------------\n",
      "Epoch 6: train_loss = 0.49, train_accuracy = 0.84, train_precision = 0.86\n",
      "Test: test_loss = 0.49, test_accuracy = 0.83, test_precision = 0.79\n",
      "------------------------------\n",
      "Epoch 7: train_loss = 0.47, train_accuracy = 0.86, train_precision = 0.88\n",
      "Test: test_loss = 0.48, test_accuracy = 0.82, test_precision = 0.81\n",
      "------------------------------\n",
      "Epoch 8: train_loss = 0.45, train_accuracy = 0.85, train_precision = 0.87\n",
      "Test: test_loss = 0.47, test_accuracy = 0.83, test_precision = 0.79\n",
      "------------------------------\n",
      "Epoch 9: train_loss = 0.43, train_accuracy = 0.86, train_precision = 0.88\n",
      "Test: test_loss = 0.46, test_accuracy = 0.82, test_precision = 0.81\n",
      "------------------------------\n",
      "Epoch 10: train_loss = 0.42, train_accuracy = 0.86, train_precision = 0.88\n",
      "Test: test_loss = 0.44, test_accuracy = 0.84, test_precision = 0.81\n",
      "------------------------------\n",
      "Epoch 11: train_loss = 0.41, train_accuracy = 0.86, train_precision = 0.89\n",
      "Test: test_loss = 0.43, test_accuracy = 0.85, test_precision = 0.82\n",
      "------------------------------\n",
      "Epoch 12: train_loss = 0.40, train_accuracy = 0.86, train_precision = 0.89\n",
      "Test: test_loss = 0.41, test_accuracy = 0.85, test_precision = 0.82\n",
      "------------------------------\n",
      "Epoch 13: train_loss = 0.39, train_accuracy = 0.87, train_precision = 0.89\n",
      "Test: test_loss = 0.41, test_accuracy = 0.86, test_precision = 0.81\n",
      "------------------------------\n",
      "Epoch 14: train_loss = 0.39, train_accuracy = 0.87, train_precision = 0.89\n",
      "Test: test_loss = 0.40, test_accuracy = 0.86, test_precision = 0.82\n",
      "------------------------------\n",
      "Epoch 15: train_loss = 0.38, train_accuracy = 0.87, train_precision = 0.89\n",
      "Test: test_loss = 0.40, test_accuracy = 0.86, test_precision = 0.82\n",
      "------------------------------\n",
      "Epoch 16: train_loss = 0.37, train_accuracy = 0.87, train_precision = 0.89\n",
      "Test: test_loss = 0.39, test_accuracy = 0.86, test_precision = 0.82\n",
      "------------------------------\n",
      "Epoch 17: train_loss = 0.36, train_accuracy = 0.87, train_precision = 0.90\n",
      "Test: test_loss = 0.38, test_accuracy = 0.86, test_precision = 0.82\n",
      "------------------------------\n",
      "Epoch 18: train_loss = 0.35, train_accuracy = 0.88, train_precision = 0.90\n",
      "Test: test_loss = 0.38, test_accuracy = 0.87, test_precision = 0.82\n",
      "------------------------------\n",
      "Epoch 19: train_loss = 0.35, train_accuracy = 0.88, train_precision = 0.89\n",
      "Test: test_loss = 0.37, test_accuracy = 0.86, test_precision = 0.83\n",
      "------------------------------\n",
      "==================================================\n",
      "\n",
      "Fold 4/5\n",
      "Epoch 0: train_loss = 0.62, train_accuracy = 0.76, train_precision = 0.76\n",
      "Test: test_loss = 0.53, test_accuracy = 0.78, test_precision = 0.78\n",
      "------------------------------\n",
      "Epoch 1: train_loss = 0.53, train_accuracy = 0.76, train_precision = 0.76\n",
      "Test: test_loss = 0.49, test_accuracy = 0.78, test_precision = 0.78\n",
      "------------------------------\n",
      "Epoch 2: train_loss = 0.45, train_accuracy = 0.76, train_precision = 0.76\n",
      "Test: test_loss = 0.40, test_accuracy = 0.80, test_precision = 0.79\n",
      "------------------------------\n",
      "Epoch 3: train_loss = 0.40, train_accuracy = 0.81, train_precision = 0.82\n",
      "Test: test_loss = 0.38, test_accuracy = 0.82, test_precision = 0.81\n",
      "------------------------------\n",
      "Epoch 4: train_loss = 0.37, train_accuracy = 0.82, train_precision = 0.84\n",
      "Test: test_loss = 0.37, test_accuracy = 0.81, test_precision = 0.80\n",
      "------------------------------\n",
      "Epoch 5: train_loss = 0.37, train_accuracy = 0.82, train_precision = 0.84\n",
      "Test: test_loss = 0.37, test_accuracy = 0.81, test_precision = 0.81\n",
      "------------------------------\n",
      "Epoch 6: train_loss = 0.36, train_accuracy = 0.83, train_precision = 0.86\n",
      "Test: test_loss = 0.37, test_accuracy = 0.82, test_precision = 0.80\n",
      "------------------------------\n",
      "Epoch 7: train_loss = 0.35, train_accuracy = 0.83, train_precision = 0.86\n",
      "Test: test_loss = 0.39, test_accuracy = 0.82, test_precision = 0.80\n",
      "------------------------------\n",
      "Epoch 8: train_loss = 0.34, train_accuracy = 0.83, train_precision = 0.85\n",
      "Test: test_loss = 0.36, test_accuracy = 0.82, test_precision = 0.80\n",
      "------------------------------\n",
      "Epoch 9: train_loss = 0.37, train_accuracy = 0.82, train_precision = 0.86\n",
      "Test: test_loss = 0.37, test_accuracy = 0.82, test_precision = 0.81\n",
      "------------------------------\n",
      "Epoch 10: train_loss = 0.34, train_accuracy = 0.83, train_precision = 0.86\n",
      "Test: test_loss = 0.36, test_accuracy = 0.83, test_precision = 0.81\n",
      "------------------------------\n",
      "Epoch 11: train_loss = 0.33, train_accuracy = 0.84, train_precision = 0.87\n",
      "Test: test_loss = 0.36, test_accuracy = 0.83, test_precision = 0.81\n",
      "------------------------------\n",
      "Epoch 12: train_loss = 0.33, train_accuracy = 0.84, train_precision = 0.88\n",
      "Test: test_loss = 0.36, test_accuracy = 0.83, test_precision = 0.83\n",
      "------------------------------\n",
      "Epoch 13: train_loss = 0.32, train_accuracy = 0.85, train_precision = 0.89\n",
      "Test: test_loss = 0.35, test_accuracy = 0.84, test_precision = 0.81\n",
      "------------------------------\n",
      "Epoch 14: train_loss = 0.31, train_accuracy = 0.85, train_precision = 0.88\n",
      "Test: test_loss = 0.35, test_accuracy = 0.85, test_precision = 0.83\n",
      "------------------------------\n",
      "Epoch 15: train_loss = 0.31, train_accuracy = 0.86, train_precision = 0.89\n",
      "Test: test_loss = 0.34, test_accuracy = 0.86, test_precision = 0.84\n",
      "------------------------------\n",
      "Epoch 16: train_loss = 0.30, train_accuracy = 0.86, train_precision = 0.90\n",
      "Test: test_loss = 0.34, test_accuracy = 0.86, test_precision = 0.83\n",
      "------------------------------\n",
      "Epoch 17: train_loss = 0.29, train_accuracy = 0.87, train_precision = 0.90\n",
      "Test: test_loss = 0.32, test_accuracy = 0.86, test_precision = 0.84\n",
      "------------------------------\n",
      "Epoch 18: train_loss = 0.29, train_accuracy = 0.87, train_precision = 0.91\n",
      "Test: test_loss = 0.34, test_accuracy = 0.87, test_precision = 0.86\n",
      "------------------------------\n",
      "Epoch 19: train_loss = 0.29, train_accuracy = 0.87, train_precision = 0.92\n",
      "Test: test_loss = 0.31, test_accuracy = 0.86, test_precision = 0.84\n",
      "------------------------------\n",
      "==================================================\n",
      "\n",
      "Fold 5/5\n",
      "Epoch 0: train_loss = 0.63, train_accuracy = 0.70, train_precision = 0.81\n",
      "Test: test_loss = 0.57, test_accuracy = 0.74, test_precision = 0.74\n",
      "------------------------------\n",
      "Epoch 1: train_loss = 0.53, train_accuracy = 0.77, train_precision = 0.77\n",
      "Test: test_loss = 0.56, test_accuracy = 0.74, test_precision = 0.74\n",
      "------------------------------\n",
      "Epoch 2: train_loss = 0.52, train_accuracy = 0.77, train_precision = 0.77\n",
      "Test: test_loss = 0.52, test_accuracy = 0.74, test_precision = 0.74\n",
      "------------------------------\n",
      "Epoch 3: train_loss = 0.44, train_accuracy = 0.77, train_precision = 0.77\n",
      "Test: test_loss = 0.42, test_accuracy = 0.74, test_precision = 0.74\n",
      "------------------------------\n",
      "Epoch 4: train_loss = 0.41, train_accuracy = 0.77, train_precision = 0.77\n",
      "Test: test_loss = 0.40, test_accuracy = 0.74, test_precision = 0.74\n",
      "------------------------------\n",
      "Epoch 5: train_loss = 0.38, train_accuracy = 0.77, train_precision = 0.77\n",
      "Test: test_loss = 0.39, test_accuracy = 0.75, test_precision = 0.74\n",
      "------------------------------\n",
      "Epoch 6: train_loss = 0.36, train_accuracy = 0.81, train_precision = 0.81\n",
      "Test: test_loss = 0.38, test_accuracy = 0.80, test_precision = 0.76\n",
      "------------------------------\n",
      "Epoch 7: train_loss = 0.37, train_accuracy = 0.83, train_precision = 0.85\n",
      "Test: test_loss = 0.38, test_accuracy = 0.80, test_precision = 0.76\n",
      "------------------------------\n",
      "Epoch 8: train_loss = 0.36, train_accuracy = 0.83, train_precision = 0.85\n",
      "Test: test_loss = 0.41, test_accuracy = 0.80, test_precision = 0.76\n",
      "------------------------------\n",
      "Epoch 9: train_loss = 0.35, train_accuracy = 0.84, train_precision = 0.85\n",
      "Test: test_loss = 0.38, test_accuracy = 0.82, test_precision = 0.76\n",
      "------------------------------\n",
      "Epoch 10: train_loss = 0.35, train_accuracy = 0.84, train_precision = 0.85\n",
      "Test: test_loss = 0.37, test_accuracy = 0.81, test_precision = 0.77\n",
      "------------------------------\n",
      "Epoch 11: train_loss = 0.34, train_accuracy = 0.85, train_precision = 0.87\n",
      "Test: test_loss = 0.38, test_accuracy = 0.83, test_precision = 0.76\n",
      "------------------------------\n",
      "Epoch 12: train_loss = 0.34, train_accuracy = 0.85, train_precision = 0.87\n",
      "Test: test_loss = 0.36, test_accuracy = 0.82, test_precision = 0.77\n",
      "------------------------------\n",
      "Epoch 13: train_loss = 0.34, train_accuracy = 0.85, train_precision = 0.88\n",
      "Test: test_loss = 0.36, test_accuracy = 0.83, test_precision = 0.77\n",
      "------------------------------\n",
      "Epoch 14: train_loss = 0.33, train_accuracy = 0.86, train_precision = 0.88\n",
      "Test: test_loss = 0.37, test_accuracy = 0.83, test_precision = 0.78\n",
      "------------------------------\n",
      "Epoch 15: train_loss = 0.34, train_accuracy = 0.85, train_precision = 0.88\n",
      "Test: test_loss = 0.36, test_accuracy = 0.84, test_precision = 0.78\n",
      "------------------------------\n",
      "Epoch 16: train_loss = 0.34, train_accuracy = 0.85, train_precision = 0.88\n",
      "Test: test_loss = 0.35, test_accuracy = 0.83, test_precision = 0.77\n",
      "------------------------------\n",
      "Epoch 17: train_loss = 0.33, train_accuracy = 0.85, train_precision = 0.89\n",
      "Test: test_loss = 0.36, test_accuracy = 0.83, test_precision = 0.77\n",
      "------------------------------\n",
      "Epoch 18: train_loss = 0.32, train_accuracy = 0.85, train_precision = 0.89\n",
      "Test: test_loss = 0.35, test_accuracy = 0.84, test_precision = 0.77\n",
      "------------------------------\n",
      "Epoch 19: train_loss = 0.32, train_accuracy = 0.85, train_precision = 0.89\n",
      "Test: test_loss = 0.35, test_accuracy = 0.85, test_precision = 0.77\n",
      "------------------------------\n",
      "==================================================\n"
     ]
    }
   ],
   "source": [
    "# create loss function\n",
    "loss_fn = nn.BCELoss()\n",
    "\n",
    "\n",
    "stat, bi_lstm_model = k_fold_cross_validation_bi_lstm( dataset, loss_fn, device, k=k, batch_size=batch_size, epochs=epochs,\n",
    "                               add_data_noise=True, data_noise_std=noise_std, lr =lr)\n",
    "\n"
   ]
  },
  {
   "cell_type": "code",
   "execution_count": 31,
   "metadata": {},
   "outputs": [
    {
     "data": {
      "image/png": "[encoded data removed]",
      "text/plain": [
       "<Figure size 432x288 with 1 Axes>"
      ]
     },
     "metadata": {
      "needs_background": "light"
     },
     "output_type": "display_data"
    },
    {
     "data": {
      "image/png": "[encoded data removed]",
      "text/plain": [
       "<Figure size 432x288 with 1 Axes>"
      ]
     },
     "metadata": {
      "needs_background": "light"
     },
     "output_type": "display_data"
    },
    {
     "data": {
      "image/png": "[encoded data removed]",
      "text/plain": [
       "<Figure size 432x288 with 1 Axes>"
      ]
     },
     "metadata": {
      "needs_background": "light"
     },
     "output_type": "display_data"
    }
   ],
   "source": [
    "avg_train_losses, avg_train_accuracies, avg_train_precisions, avg_test_losses, avg_test_accuracies, avg_test_precisions = stat\n",
    "plot_stats(avg_train_losses, avg_test_losses, avg_train_accuracies, avg_test_accuracies, avg_train_precisions, avg_test_precisions)"
   ]
  },
  {
   "cell_type": "code",
   "execution_count": 32,
   "metadata": {},
   "outputs": [
    {
     "name": "stdout",
     "output_type": "stream",
     "text": [
      "final Bi LSTM accuracy = 0.86\n",
      "final Bi LSTM precision = 0.83\n"
     ]
    }
   ],
   "source": [
    "final_bi_lstm_accuracy = avg_test_accuracies[-1]\n",
    "final_bi_lstm_precision = avg_test_precisions[-1]\n",
    "\n",
    "print(\"final Bi LSTM accuracy = {:.2f}\".format(final_bi_lstm_accuracy))\n",
    "print(\"final Bi LSTM precision = {:.2f}\".format(final_bi_lstm_precision))"
   ]
  },
  {
   "cell_type": "markdown",
   "metadata": {},
   "source": [
    "<div dir=\"rtl\">\n",
    "<font face=\"B Nazanin\" size=\"5\">\n",
    "در بالا مشاهده میکنید که کمی عملکردش bi-lstm\n",
    "بهتر است\n",
    "که خب میتوان اینگونه برداشت کرد که حافظه \n",
    "LSTM\n",
    "معمولی خیلی نسبت به انتهای رشته بایاس بیشتری دارد و باعث میشود به ویژگی هایی که آخر میبیند متفاوت از اولی ها نگاه کند که \n",
    "این مشکل در \n",
    "bi-lstm\n",
    "رفع شده است.\n",
    "چرا که اول و آخر رشته از نظر آن معنا ندارند.\n",
    "</font>\n",
    "</div>"
   ]
  },
  {
   "cell_type": "markdown",
   "metadata": {},
   "source": [
    "# impact of length"
   ]
  },
  {
   "cell_type": "markdown",
   "metadata": {},
   "source": [
    "<div dir=\"rtl\">\n",
    "<font face=\"B Nazanin\" size=\"5\">\n",
    "در زیر برای آنکه تاثیر طول را ببینیم\n",
    "رشته ها را که بین 3 تا 232 طول دارند به ده قسمت مساوی (از نظر اختلاف طول\n",
    ")\n",
    "تقسیم کرده ام و تابعی نوشته ام که با گرفتن طول میگوید به کدام دسته تعلق دارد.\n",
    "</font>\n",
    "</div>"
   ]
  },
  {
   "cell_type": "code",
   "execution_count": 33,
   "metadata": {},
   "outputs": [
    {
     "name": "stdout",
     "output_type": "stream",
     "text": [
      "min_smiles_len =  3\n",
      "max_smiles_len =  232\n",
      "boundaries [  2.   25.9  48.8  71.7  94.6 117.5 140.4 163.3 186.2 209.1 233. ]\n"
     ]
    }
   ],
   "source": [
    "number_of_bins = 10\n",
    "print(\"min_smiles_len = \",min_smiles_len)\n",
    "print(\"max_smiles_len = \",max_smiles_len)\n",
    "\n",
    "boundaries = np.linspace(min_smiles_len, max_smiles_len, num=number_of_bins + 1)\n",
    "boundaries[0] = boundaries[0] - 1\n",
    "boundaries[-1] = boundaries[-1] + 1\n",
    "print(\"boundaries\", boundaries)\n"
   ]
  },
  {
   "cell_type": "code",
   "execution_count": 34,
   "metadata": {},
   "outputs": [
    {
     "name": "stdout",
     "output_type": "stream",
     "text": [
      "[0 1 9 9]\n"
     ]
    }
   ],
   "source": [
    "def assign_bin(data):\n",
    "    bins = np.digitize(data, boundaries, right=True)\n",
    "    return bins - 1\n",
    "\n",
    "print(assign_bin([3, 30, 230, 232]))\n"
   ]
  },
  {
   "cell_type": "code",
   "execution_count": 35,
   "metadata": {},
   "outputs": [],
   "source": [
    "dataset = BBBPDataset(smiles_onehot_tensor_list, p_np_tensor_list, with_length=True)\n",
    "test_dataloader = DataLoader(dataset, batch_size=32, shuffle=False)"
   ]
  },
  {
   "cell_type": "markdown",
   "metadata": {},
   "source": [
    "<div dir=\"rtl\">\n",
    "<font face=\"B Nazanin\" size=\"5\">\n",
    "تابع زیر روی دیتاست تست با توجه به طول رشته برای هر دسته جداگانه صحت را حساب میکند\n",
    "</font>\n",
    "</div>"
   ]
  },
  {
   "cell_type": "code",
   "execution_count": 36,
   "metadata": {},
   "outputs": [],
   "source": [
    "def test_func(model, test_dataloader):\n",
    "    model.eval()\n",
    "    with torch.no_grad():\n",
    "        test_accuracy = 0\n",
    "        test_precision = 0\n",
    "\n",
    "        match_bins = [0] * number_of_bins\n",
    "        num_in_bins = [0] * number_of_bins\n",
    "        acc_bins = [-1] * number_of_bins\n",
    "\n",
    "        for X, y, length in test_dataloader:\n",
    "            X = X.to(device)\n",
    "            y = y.to(device)\n",
    "            length = length\n",
    "\n",
    "            y_pred = model(X.float())\n",
    "\n",
    "\n",
    "            y_pred = y_pred.detach().cpu().numpy()\n",
    "            y_pred = np.where(y_pred > 0.5, 1, 0)\n",
    "            y = y.cpu().numpy()\n",
    "\n",
    "            test_accuracy += accuracy_score(y, y_pred)\n",
    "            test_precision += precision_score(y, y_pred, average='binary', zero_division=1)\n",
    "\n",
    "            for i in range(len(y)):\n",
    "                bin = assign_bin(length[i])\n",
    "                match_bins[bin] += (y[i] == y_pred[i])\n",
    "                num_in_bins[bin] +=1\n",
    "\n",
    "        test_accuracy /= len(test_dataloader)\n",
    "        test_precision /= len(test_dataloader)\n",
    "\n",
    "        for i in range(number_of_bins):\n",
    "            if num_in_bins[i] != 0:\n",
    "                acc_bins[i] = match_bins[i] / num_in_bins[i]\n",
    "\n",
    "        print(\"test_accuracy = {:.2f}, test_precision = {:.2f}\".format(test_accuracy, test_precision))\n",
    "        print(\"-\" * 30)\n",
    "        print()\n",
    "\n",
    "        print(\"accuracy in each bins:\" )\n",
    "        for i in range(number_of_bins):\n",
    "            print(\"bin {}: {}\".format(i, acc_bins[i]))\n"
   ]
  },
  {
   "cell_type": "markdown",
   "metadata": {},
   "source": [
    "\n",
    "<div dir=\"rtl\">\n",
    "<font face=\"B Nazanin\" size=\"5\">\n",
    "در زیر مشاهده میکنید که کمی عملکرد bi-lstm\n",
    "روی رشته های با طول بلند بهتر است\n",
    "که خب میتوان اینگونه برداشت کرد که حافظه \n",
    "LSTM\n",
    "معمولی خیلی نسبت به انتهای رشته بایاس بیشتری دارد و باعث میشود به ویژگی هایی که آخر میبیند متفاوت از اولی ها نگاه کند که \n",
    "این مشکل در \n",
    "bi-lstm\n",
    "رفع شده است.\n",
    "چرا که اول و آخر رشته از نظر آن معنا ندارند.\n",
    "\n",
    "هر دوی مدل ها با افزایش طول رشته عملکرد ضعیف تری از خود نشان میدهند که این هم به این خاطر است که به مرور با افزایش طول رشته حافظه گنجایش\n",
    "به خاطر سپردن همه ویژگی ها را ندارد! البته این نوعی نگاه است! میتوان اینگونه هم توضیح داد که به مرور توکن های اول از حافظه پاک میشوند و به آن ها بی توجهی میشود.\n",
    "\n",
    "اینکه بین هشتم هم منفی یک است به این خاطر است که دیتایی وجود ندارد\n",
    "</font>\n",
    "</div>"
   ]
  },
  {
   "cell_type": "code",
   "execution_count": 37,
   "metadata": {},
   "outputs": [
    {
     "name": "stdout",
     "output_type": "stream",
     "text": [
      "test_accuracy = 0.86, test_precision = 0.81\n",
      "------------------------------\n",
      "\n",
      "accuracy in each bins:\n",
      "bin 0: [0.85018727]\n",
      "bin 1: [0.87102804]\n",
      "bin 2: [0.86865149]\n",
      "bin 3: [0.83516484]\n",
      "bin 4: [0.74285714]\n",
      "bin 5: [0.8]\n",
      "bin 6: [0.2]\n",
      "bin 7: [0.]\n",
      "bin 8: -1\n",
      "bin 9: [0.5]\n"
     ]
    }
   ],
   "source": [
    "test_func(lstm_model, test_dataloader=test_dataloader)"
   ]
  },
  {
   "cell_type": "code",
   "execution_count": 38,
   "metadata": {},
   "outputs": [
    {
     "name": "stdout",
     "output_type": "stream",
     "text": [
      "test_accuracy = 0.86, test_precision = 0.81\n",
      "------------------------------\n",
      "\n",
      "accuracy in each bins:\n",
      "bin 0: [0.8576779]\n",
      "bin 1: [0.86728972]\n",
      "bin 2: [0.86865149]\n",
      "bin 3: [0.87912088]\n",
      "bin 4: [0.62857143]\n",
      "bin 5: [1.]\n",
      "bin 6: [0.2]\n",
      "bin 7: [0.25]\n",
      "bin 8: -1\n",
      "bin 9: [1.]\n"
     ]
    }
   ],
   "source": [
    "test_func(bi_lstm_model, test_dataloader=test_dataloader)"
   ]
  }
 ],
 "metadata": {
  "kernelspec": {
   "display_name": "Python 3",
   "language": "python",
   "name": "python3"
  },
  "language_info": {
   "codemirror_mode": {
    "name": "ipython",
    "version": 3
   },
   "file_extension": ".py",
   "mimetype": "text/x-python",
   "name": "python",
   "nbconvert_exporter": "python",
   "pygments_lexer": "ipython3",
   "version": "3.9.8"
  }
 },
 "nbformat": 4,
 "nbformat_minor": 2
}
